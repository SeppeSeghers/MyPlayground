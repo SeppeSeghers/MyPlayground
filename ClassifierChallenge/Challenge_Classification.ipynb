{
 "cells": [
  {
   "cell_type": "markdown",
   "metadata": {},
   "source": [
    "# Classification Challenge"
   ]
  },
  {
   "cell_type": "markdown",
   "metadata": {},
   "source": [
    "## README\n",
    "\n",
    "The purpose of this notebook, is to compare and explore different models to predict classified data.\n",
    "In this code, there are 5 main methods covered\n",
    "1. KNN\n",
    "    - Different k-values\n",
    "2. LogReg\n",
    "    - Uniform weights\n",
    "    - Balanced weights\n",
    "3. Decision Tree\n",
    "    - Different depths\n",
    "4. SVM\n",
    "    - Different c-values\n",
    "    - Various kernel types\n",
    "5. Naive Bayes\n",
    "\n",
    "\n",
    "All models are applied on [this dataset](https://www.kaggle.com/uciml/mushroom-classification).\n",
    "\n",
    "The data is preprocessed using LabelEncoder and StandardScaler, and split randomly into a 3/4 training set, and a 1/4 testing set to asses the accuraccy of each model.\n",
    "All accuracies are computed via metrics.accuracy_score()"
   ]
  },
  {
   "cell_type": "markdown",
   "metadata": {},
   "source": [
    "## Imports"
   ]
  },
  {
   "cell_type": "code",
   "execution_count": 1,
   "metadata": {
    "ExecuteTime": {
     "end_time": "2020-08-18T08:27:48.734281Z",
     "start_time": "2020-08-18T08:27:48.168081Z"
    }
   },
   "outputs": [],
   "source": [
    "from __future__ import print_function, division\n",
    "import numpy as np\n",
    "import pandas as pd\n",
    "import matplotlib.pyplot as plt\n",
    "import seaborn as sns\n",
    "%matplotlib inline"
   ]
  },
  {
   "cell_type": "markdown",
   "metadata": {},
   "source": [
    "## DataFrame"
   ]
  },
  {
   "cell_type": "code",
   "execution_count": 2,
   "metadata": {
    "ExecuteTime": {
     "end_time": "2020-08-18T08:27:48.771564Z",
     "start_time": "2020-08-18T08:27:48.735555Z"
    }
   },
   "outputs": [
    {
     "data": {
      "text/html": [
       "<div>\n",
       "<style scoped>\n",
       "    .dataframe tbody tr th:only-of-type {\n",
       "        vertical-align: middle;\n",
       "    }\n",
       "\n",
       "    .dataframe tbody tr th {\n",
       "        vertical-align: top;\n",
       "    }\n",
       "\n",
       "    .dataframe thead th {\n",
       "        text-align: right;\n",
       "    }\n",
       "</style>\n",
       "<table border=\"1\" class=\"dataframe\">\n",
       "  <thead>\n",
       "    <tr style=\"text-align: right;\">\n",
       "      <th></th>\n",
       "      <th>class</th>\n",
       "      <th>cap-shape</th>\n",
       "      <th>cap-surface</th>\n",
       "      <th>cap-color</th>\n",
       "      <th>bruises</th>\n",
       "      <th>odor</th>\n",
       "      <th>gill-attachment</th>\n",
       "      <th>gill-spacing</th>\n",
       "      <th>gill-size</th>\n",
       "      <th>gill-color</th>\n",
       "      <th>...</th>\n",
       "      <th>stalk-surface-below-ring</th>\n",
       "      <th>stalk-color-above-ring</th>\n",
       "      <th>stalk-color-below-ring</th>\n",
       "      <th>veil-type</th>\n",
       "      <th>veil-color</th>\n",
       "      <th>ring-number</th>\n",
       "      <th>ring-type</th>\n",
       "      <th>spore-print-color</th>\n",
       "      <th>population</th>\n",
       "      <th>habitat</th>\n",
       "    </tr>\n",
       "  </thead>\n",
       "  <tbody>\n",
       "    <tr>\n",
       "      <th>0</th>\n",
       "      <td>p</td>\n",
       "      <td>x</td>\n",
       "      <td>s</td>\n",
       "      <td>n</td>\n",
       "      <td>t</td>\n",
       "      <td>p</td>\n",
       "      <td>f</td>\n",
       "      <td>c</td>\n",
       "      <td>n</td>\n",
       "      <td>k</td>\n",
       "      <td>...</td>\n",
       "      <td>s</td>\n",
       "      <td>w</td>\n",
       "      <td>w</td>\n",
       "      <td>p</td>\n",
       "      <td>w</td>\n",
       "      <td>o</td>\n",
       "      <td>p</td>\n",
       "      <td>k</td>\n",
       "      <td>s</td>\n",
       "      <td>u</td>\n",
       "    </tr>\n",
       "    <tr>\n",
       "      <th>1</th>\n",
       "      <td>e</td>\n",
       "      <td>x</td>\n",
       "      <td>s</td>\n",
       "      <td>y</td>\n",
       "      <td>t</td>\n",
       "      <td>a</td>\n",
       "      <td>f</td>\n",
       "      <td>c</td>\n",
       "      <td>b</td>\n",
       "      <td>k</td>\n",
       "      <td>...</td>\n",
       "      <td>s</td>\n",
       "      <td>w</td>\n",
       "      <td>w</td>\n",
       "      <td>p</td>\n",
       "      <td>w</td>\n",
       "      <td>o</td>\n",
       "      <td>p</td>\n",
       "      <td>n</td>\n",
       "      <td>n</td>\n",
       "      <td>g</td>\n",
       "    </tr>\n",
       "    <tr>\n",
       "      <th>2</th>\n",
       "      <td>e</td>\n",
       "      <td>b</td>\n",
       "      <td>s</td>\n",
       "      <td>w</td>\n",
       "      <td>t</td>\n",
       "      <td>l</td>\n",
       "      <td>f</td>\n",
       "      <td>c</td>\n",
       "      <td>b</td>\n",
       "      <td>n</td>\n",
       "      <td>...</td>\n",
       "      <td>s</td>\n",
       "      <td>w</td>\n",
       "      <td>w</td>\n",
       "      <td>p</td>\n",
       "      <td>w</td>\n",
       "      <td>o</td>\n",
       "      <td>p</td>\n",
       "      <td>n</td>\n",
       "      <td>n</td>\n",
       "      <td>m</td>\n",
       "    </tr>\n",
       "    <tr>\n",
       "      <th>3</th>\n",
       "      <td>p</td>\n",
       "      <td>x</td>\n",
       "      <td>y</td>\n",
       "      <td>w</td>\n",
       "      <td>t</td>\n",
       "      <td>p</td>\n",
       "      <td>f</td>\n",
       "      <td>c</td>\n",
       "      <td>n</td>\n",
       "      <td>n</td>\n",
       "      <td>...</td>\n",
       "      <td>s</td>\n",
       "      <td>w</td>\n",
       "      <td>w</td>\n",
       "      <td>p</td>\n",
       "      <td>w</td>\n",
       "      <td>o</td>\n",
       "      <td>p</td>\n",
       "      <td>k</td>\n",
       "      <td>s</td>\n",
       "      <td>u</td>\n",
       "    </tr>\n",
       "    <tr>\n",
       "      <th>4</th>\n",
       "      <td>e</td>\n",
       "      <td>x</td>\n",
       "      <td>s</td>\n",
       "      <td>g</td>\n",
       "      <td>f</td>\n",
       "      <td>n</td>\n",
       "      <td>f</td>\n",
       "      <td>w</td>\n",
       "      <td>b</td>\n",
       "      <td>k</td>\n",
       "      <td>...</td>\n",
       "      <td>s</td>\n",
       "      <td>w</td>\n",
       "      <td>w</td>\n",
       "      <td>p</td>\n",
       "      <td>w</td>\n",
       "      <td>o</td>\n",
       "      <td>e</td>\n",
       "      <td>n</td>\n",
       "      <td>a</td>\n",
       "      <td>g</td>\n",
       "    </tr>\n",
       "  </tbody>\n",
       "</table>\n",
       "<p>5 rows × 23 columns</p>\n",
       "</div>"
      ],
      "text/plain": [
       "  class cap-shape cap-surface cap-color bruises odor gill-attachment  \\\n",
       "0     p         x           s         n       t    p               f   \n",
       "1     e         x           s         y       t    a               f   \n",
       "2     e         b           s         w       t    l               f   \n",
       "3     p         x           y         w       t    p               f   \n",
       "4     e         x           s         g       f    n               f   \n",
       "\n",
       "  gill-spacing gill-size gill-color  ... stalk-surface-below-ring  \\\n",
       "0            c         n          k  ...                        s   \n",
       "1            c         b          k  ...                        s   \n",
       "2            c         b          n  ...                        s   \n",
       "3            c         n          n  ...                        s   \n",
       "4            w         b          k  ...                        s   \n",
       "\n",
       "  stalk-color-above-ring stalk-color-below-ring veil-type veil-color  \\\n",
       "0                      w                      w         p          w   \n",
       "1                      w                      w         p          w   \n",
       "2                      w                      w         p          w   \n",
       "3                      w                      w         p          w   \n",
       "4                      w                      w         p          w   \n",
       "\n",
       "  ring-number ring-type spore-print-color population habitat  \n",
       "0           o         p                 k          s       u  \n",
       "1           o         p                 n          n       g  \n",
       "2           o         p                 n          n       m  \n",
       "3           o         p                 k          s       u  \n",
       "4           o         e                 n          a       g  \n",
       "\n",
       "[5 rows x 23 columns]"
      ]
     },
     "execution_count": 2,
     "metadata": {},
     "output_type": "execute_result"
    }
   ],
   "source": [
    "df = pd.read_csv('Data/mushrooms.csv')\n",
    "df.head()"
   ]
  },
  {
   "cell_type": "markdown",
   "metadata": {},
   "source": [
    "## 0. Preprocessing"
   ]
  },
  {
   "cell_type": "code",
   "execution_count": 3,
   "metadata": {
    "ExecuteTime": {
     "end_time": "2020-08-18T08:27:49.001787Z",
     "start_time": "2020-08-18T08:27:48.772588Z"
    }
   },
   "outputs": [],
   "source": [
    "from sklearn.model_selection import train_test_split\n",
    "from sklearn import preprocessing\n",
    "from sklearn.metrics import accuracy_score\n",
    "\n",
    "def split_data(df, y_col, X_col, size=0.25, rand=42):\n",
    "    # split dataset in features and target variable\n",
    "    X = df[X_col]  # Features\n",
    "    y = df[y_col]  # Target variable\n",
    "    return train_test_split(X, y, test_size=size, random_state=rand)\n",
    "\n",
    "le = preprocessing.LabelEncoder()\n",
    "les = {col: preprocessing.LabelEncoder() for col in df.columns}\n",
    "\n",
    "for col in les:\n",
    "    df[col] = les[col].fit_transform(df[col])\n",
    "\n",
    "feature_cols = [\n",
    "    'cap-shape', 'cap-surface', 'cap-color', 'bruises', 'odor',\n",
    "    'gill-attachment', 'gill-spacing', 'gill-size', 'gill-color',\n",
    "    'stalk-shape', 'stalk-root', 'stalk-surface-above-ring',\n",
    "    'stalk-surface-below-ring', 'stalk-color-above-ring',\n",
    "    'stalk-color-below-ring', 'veil-type', 'veil-color', 'ring-number',\n",
    "    'ring-type', 'spore-print-color', 'population', 'habitat'\n",
    "]\n",
    "\n",
    "X_train, X_test, y_train, y_test = split_data(df, 'class', feature_cols)\n",
    "\n",
    "scaler = preprocessing.StandardScaler().fit(X_train)\n",
    "X_train = scaler.transform(X_train)\n",
    "X_test = scaler.transform(X_test)"
   ]
  },
  {
   "cell_type": "markdown",
   "metadata": {},
   "source": [
    "## 1. KNN"
   ]
  },
  {
   "cell_type": "code",
   "execution_count": 18,
   "metadata": {
    "ExecuteTime": {
     "end_time": "2020-08-18T20:13:51.486093Z",
     "start_time": "2020-08-18T20:13:47.067936Z"
    }
   },
   "outputs": [
    {
     "data": {
      "image/png": "[encoded data removed]",
      "text/plain": [
       "<Figure size 432x288 with 1 Axes>"
      ]
     },
     "metadata": {},
     "output_type": "display_data"
    }
   ],
   "source": [
    "# Import knearest neighbors Classifier model\n",
    "from sklearn.neighbors import KNeighborsClassifier\n",
    "\n",
    "\n",
    "def knn_finder(X_train, y_train, X_test, y_test, k):\n",
    "    # Create KNN Classifier\n",
    "    knn = KNeighborsClassifier(n_neighbors=k)\n",
    "\n",
    "    # Train the model using the training sets\n",
    "    knn.fit(X_train, y_train)\n",
    "    y_pred = knn.predict(X_test)\n",
    "\n",
    "    # Model Accuracy, how often is the classifier correct?\n",
    "    knn_test_score = accuracy_score(y_test, y_pred)\n",
    "    # print(\"KNeighbors Accuracy:\\n\", knn_test_score)\n",
    "    return knn_test_score\n",
    "\n",
    "\n",
    "k_range = range(1, 25, 2)\n",
    "k_scores = []\n",
    "for i in k_range:\n",
    "    acc = knn_finder(X_train, y_train, X_test, y_test, i)\n",
    "    k_scores.append(acc)\n",
    "\n",
    "sns.set_style('darkgrid')\n",
    "ax = sns.lineplot(x=k_range, y=k_scores)\n",
    "ax.set_xticks(k_range)\n",
    "ax.set_xlabel(\"Value of k\")\n",
    "ax.set_ylabel(\"Model Accuracy\")\n",
    "plt.show()"
   ]
  },
  {
   "cell_type": "markdown",
   "metadata": {},
   "source": [
    "## 2. LogReg"
   ]
  },
  {
   "cell_type": "code",
   "execution_count": 27,
   "metadata": {
    "ExecuteTime": {
     "end_time": "2020-08-18T21:17:23.313566Z",
     "start_time": "2020-08-18T21:17:22.807821Z"
    }
   },
   "outputs": [
    {
     "name": "stdout",
     "output_type": "stream",
     "text": [
      "LogisticRegression Accuracy:\n",
      " 0.9551944854751354\n",
      "Balanced LogisticRegression Accuracy:\n",
      " 0.9581486952240276\n"
     ]
    }
   ],
   "source": [
    "from sklearn.linear_model import LogisticRegression\n",
    "\n",
    "# instantiate the model (using the default parameters)\n",
    "logreg = LogisticRegression()\n",
    "\n",
    "# fit the model with data\n",
    "logreg.fit(X_train, y_train)\n",
    "y_pred = logreg.predict(X_test)\n",
    "\n",
    "# calc test_score\n",
    "logreg_test_score = accuracy_score(y_test, y_pred)\n",
    "print(\"LogisticRegression Accuracy:\\n\", logreg_test_score)\n",
    "\n",
    "# instantiate the model (using the balanced parameter)\n",
    "bal_logreg = LogisticRegression(class_weight='balanced')\n",
    "\n",
    "# fit the model with data\n",
    "bal_logreg.fit(X_train, y_train)\n",
    "bal_y_pred = bal_logreg.predict(X_test)\n",
    "\n",
    "# calc test_score\n",
    "bal_logreg_test_score = accuracy_score(y_test, bal_y_pred)\n",
    "print(\"Balanced LogisticRegression Accuracy:\\n\", bal_logreg_test_score)"
   ]
  },
  {
   "cell_type": "markdown",
   "metadata": {
    "ExecuteTime": {
     "end_time": "2020-08-18T08:01:23.659797Z",
     "start_time": "2020-08-18T08:01:23.566139Z"
    }
   },
   "source": [
    "## 3. Decision Tree"
   ]
  },
  {
   "cell_type": "code",
   "execution_count": 33,
   "metadata": {
    "ExecuteTime": {
     "end_time": "2020-08-18T21:25:11.733991Z",
     "start_time": "2020-08-18T21:25:11.337673Z"
    }
   },
   "outputs": [
    {
     "data": {
      "image/png": "[encoded data removed]",
      "text/plain": [
       "<Figure size 432x288 with 1 Axes>"
      ]
     },
     "metadata": {},
     "output_type": "display_data"
    }
   ],
   "source": [
    "from sklearn.tree import DecisionTreeClassifier\n",
    "\n",
    "\n",
    "def depth_finder(X_train,\n",
    "                 y_train,\n",
    "                 X_test,\n",
    "                 y_test,\n",
    "                 depth=None,\n",
    "                 balanced=False,\n",
    "                 rand=42):\n",
    "    if balanced:\n",
    "        d_tree = DecisionTreeClassifier(random_state=rand,\n",
    "                                        max_depth=depth,\n",
    "                                        class_weight='balanced')\n",
    "    else:\n",
    "        d_tree = DecisionTreeClassifier(random_state=rand, max_depth=depth)\n",
    "    d_tree.fit(X_train, y_train)\n",
    "    y_pred = d_tree.predict(X_test)\n",
    "    tree_score = accuracy_score(y_test, y_pred)\n",
    "    return tree_score\n",
    "\n",
    "\n",
    "idx = []\n",
    "uniform = []\n",
    "balanced = []\n",
    "depth_range = range(1, 10)\n",
    "for i in depth_range:\n",
    "    uniform.append(depth_finder(X_train, y_train, X_test, y_test, depth=i))\n",
    "    balanced.append(\n",
    "        depth_finder(X_train, y_train, X_test, y_test, depth=i, balanced=True))\n",
    "\n",
    "fig, ax = plt.subplots()\n",
    "sns.lineplot(ax=ax,\n",
    "             x=depth_range,\n",
    "             y=uniform,\n",
    "             color='red',\n",
    "             marker='v',\n",
    "             alpha=0.5)\n",
    "sns.lineplot(ax=ax,\n",
    "             x=depth_range,\n",
    "             y=balanced,\n",
    "             color='green',\n",
    "             marker='o',\n",
    "             alpha=0.5)\n",
    "plt.show()"
   ]
  },
  {
   "cell_type": "markdown",
   "metadata": {},
   "source": [
    "## 4. SVM"
   ]
  },
  {
   "cell_type": "code",
   "execution_count": 44,
   "metadata": {
    "ExecuteTime": {
     "end_time": "2020-08-18T22:08:20.027899Z",
     "start_time": "2020-08-18T22:08:00.722231Z"
    }
   },
   "outputs": [],
   "source": [
    "#Import svm model\n",
    "from sklearn import svm\n",
    "\n",
    "kernel_types = ['linear', 'poly', 'rbf', 'sigmoid']\n",
    "c_range = [i/10 for i in range(1,21,2)]\n",
    "\n",
    "acc_series = []\n",
    "kernel_series = []\n",
    "c_series = []\n",
    "\n",
    "for k in kernel_types:\n",
    "    for c in c_range:\n",
    "        clf = svm.SVC(C=c, kernel=k)\n",
    "        clf.fit(X_train, y_train)\n",
    "        y_pred = clf.predict(X_test)\n",
    "        acc_series.append(accuracy_score(y_test, y_pred))\n",
    "        kernel_series.append(k)\n",
    "        c_series.append(c)\n",
    "\n",
    "svm_df = pd.DataFrame({'accuracy': acc_series, 'C': c_series, 'kernel': kernel_series})"
   ]
  },
  {
   "cell_type": "code",
   "execution_count": 47,
   "metadata": {
    "ExecuteTime": {
     "end_time": "2020-08-18T22:18:38.093446Z",
     "start_time": "2020-08-18T22:18:37.679118Z"
    }
   },
   "outputs": [
    {
     "data": {
      "image/png": "[encoded data removed]",
      "text/plain": [
       "<Figure size 432x288 with 1 Axes>"
      ]
     },
     "metadata": {},
     "output_type": "display_data"
    }
   ],
   "source": [
    "ax = sns.lineplot(data=svm_df, x='C', y='accuracy', hue='kernel')\n",
    "ax.set_xticks(c_series)\n",
    "plt.show()"
   ]
  },
  {
   "cell_type": "markdown",
   "metadata": {},
   "source": [
    "## 5. Naive Bayes"
   ]
  },
  {
   "cell_type": "code",
   "execution_count": 48,
   "metadata": {
    "ExecuteTime": {
     "end_time": "2020-08-18T22:28:03.593155Z",
     "start_time": "2020-08-18T22:28:03.104754Z"
    }
   },
   "outputs": [
    {
     "name": "stdout",
     "output_type": "stream",
     "text": [
      "Accuracy:  0.9266371245691778\n"
     ]
    }
   ],
   "source": [
    "#Import Gaussian Naive Bayes model\n",
    "from sklearn.naive_bayes import GaussianNB\n",
    "\n",
    "#Create a Gaussian Classifier\n",
    "gnb = GaussianNB()\n",
    "\n",
    "#Train the model using the training sets\n",
    "gnb.fit(X_train, y_train)\n",
    "\n",
    "#Predict the response for test dataset\n",
    "y_pred = gnb.predict(X_test)\n",
    "print(\"Accuracy: \", accuracy_score(y_test, y_pred))"
   ]
  }
 ],
 "metadata": {
  "kernelspec": {
   "display_name": "Python 3",
   "language": "python",
   "name": "python3"
  },
  "language_info": {
   "codemirror_mode": {
    "name": "ipython",
    "version": 3
   },
   "file_extension": ".py",
   "mimetype": "text/x-python",
   "name": "python",
   "nbconvert_exporter": "python",
   "pygments_lexer": "ipython3",
   "version": "3.7.6"
  }
 },
 "nbformat": 4,
 "nbformat_minor": 2
}
