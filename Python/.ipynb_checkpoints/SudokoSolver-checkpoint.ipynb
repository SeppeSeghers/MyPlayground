{
 "cells": [
  {
   "cell_type": "code",
   "execution_count": null,
   "metadata": {
    "scrolled": false
   },
   "outputs": [],
   "source": [
    "## This project is based on Computerphile's Sudoku Solver (https://www.youtube.com/watch?v=G_UYXzGuqvM)\n",
    "## it uses a backtracking method to brute force a solution to a solveable sudoku.\n",
    "## To start this example simply run these cells in this order. \n",
    "## If you want to solve a custom sudoku, simply insert it manually using the upload_grid() function below.\n",
    "## Be sure to use te same notation method as below, but that should be quite natural.\n",
    "## Enjoy!\n",
    "\n",
    "import numpy as np\n",
    "from timeit import default_timer as timer\n",
    "\n",
    "ROW_COUNT = 9\n",
    "COLUMN_COUNT = 9\n",
    "\n",
    "def create_grid():\n",
    "    grid = np.zeros((ROW_COUNT,COLUMN_COUNT), dtype=int)\n",
    "    return grid\n",
    "\n",
    "grid = create_grid() \n",
    "\n",
    "def disp():\n",
    "    print(np.matrix(grid))\n",
    "    \n",
    "def upload_grid(newgrid):\n",
    "    global grid\n",
    "    grid = newgrid\n",
    "    \n",
    "def possible(x, y, n):\n",
    "    global grid\n",
    "    for i in range (0, 9):\n",
    "        if grid[i][y] == n:\n",
    "            return False\n",
    "    for i in range (0, 9):\n",
    "        if grid[x][i] == n:\n",
    "            return False\n",
    "\n",
    "    x0 = (x // 3) * 3\n",
    "    y0 = (y // 3) * 3\n",
    "    for i in range(0, 3):\n",
    "        for j in range(0, 3):\n",
    "            if grid[x0 + i][y0 + j] == n:\n",
    "                return False\n",
    "    return True\n",
    "\n",
    "def solve():\n",
    "    start=timer()\n",
    "    global grid\n",
    "    for i in range (0, 9):\n",
    "        for j in range (0, 9):\n",
    "            if grid[i][j] == 0:\n",
    "                for n in range(1,10):\n",
    "                    if possible(i, j, n):\n",
    "                        grid[i][j] = n\n",
    "                        solve()\n",
    "                        grid[i][j] = 0\n",
    "                return\n",
    "    disp()\n",
    "    end = timer()\n",
    "    elapsedTime = end - start\n",
    "    print(\"Found solution in {} seconds\".format(round(elapsedTime,8)))\n",
    "    return\n",
    "\n"
   ]
  },
  {
   "cell_type": "code",
   "execution_count": null,
   "metadata": {},
   "outputs": [],
   "source": [
    "upload_grid([[8, 0, 0, 0, 0, 0, 0, 0, 0],\n",
    "             [0, 0, 3, 6, 0, 0, 0, 0, 0],\n",
    "             [0, 7, 0, 0, 9, 0, 2, 0, 0],\n",
    "             [0, 5, 0, 0, 0, 7, 0, 0, 0],\n",
    "             [0, 0, 0, 0, 4, 5, 7, 0, 0],\n",
    "             [0, 0, 0, 1, 0, 0, 0, 3, 0],\n",
    "             [0, 0, 1, 0, 0, 0, 0, 6, 8],\n",
    "             [0, 0, 8, 5, 0, 0, 0, 1, 0],\n",
    "             [0, 9, 0, 0, 0, 0, 4, 0, 0]])"
   ]
  },
  {
   "cell_type": "code",
   "execution_count": null,
   "metadata": {
    "scrolled": true
   },
   "outputs": [],
   "source": [
    "solve()"
   ]
  }
 ],
 "metadata": {
  "kernelspec": {
   "display_name": "Python 3",
   "language": "python",
   "name": "python3"
  },
  "language_info": {
   "codemirror_mode": {
    "name": "ipython",
    "version": 3
   },
   "file_extension": ".py",
   "mimetype": "text/x-python",
   "name": "python",
   "nbconvert_exporter": "python",
   "pygments_lexer": "ipython3",
   "version": "3.7.6"
  }
 },
 "nbformat": 4,
 "nbformat_minor": 4
}
