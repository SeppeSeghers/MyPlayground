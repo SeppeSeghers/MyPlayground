{
 "cells": [
  {
   "cell_type": "markdown",
   "metadata": {},
   "source": [
    "# Scikit-learn"
   ]
  },
  {
   "cell_type": "markdown",
   "metadata": {},
   "source": [
    "Scikit-learn is a machine learning library for Python and provides tools for predictive data analysis. Using scikit-learn you can use various algorithms like support vector machine (SVM), random forests, k-neighbours,etc.It supports Python numerical and scientific libraries like NumPy and SciPy. "
   ]
  },
  {
   "cell_type": "markdown",
   "metadata": {},
   "source": [
    "### Installation "
   ]
  },
  {
   "cell_type": "markdown",
   "metadata": {},
   "source": [
    "Make sure you have installed a version of Python 3 and work with virtual envirnmonments to avoid conflicts with other packages! As scikit-learn builds in packages such as NumPy and Matplotlib, make sure to have the required versions in your system. \n",
    "\n",
    "For more details visit the official [website](https://scikit-learn.org/stable/install.html)."
   ]
  },
  {
   "cell_type": "code",
   "execution_count": null,
   "metadata": {},
   "outputs": [],
   "source": [
    "pip install -U scikit-learn"
   ]
  },
  {
   "cell_type": "markdown",
   "metadata": {},
   "source": [
    "## Preprocessing data"
   ]
  },
  {
   "cell_type": "markdown",
   "metadata": {},
   "source": [
    "Data Preprocessing is a technique that is used to convert the raw data into a clean data set. In other words, whenever the data is gathered from different sources it is collected in raw format which is not feasible for the analysis."
   ]
  },
  {
   "cell_type": "markdown",
   "metadata": {},
   "source": [
    "The probability of anomalous data has increased in today’s data due to its humongous size and its origin for heterogenous sources. Considering the fact that high quality data leads to better models and predictions, data preprocessing has become vital–and the fundamental step in the data science/machine learning/AI pipeline. Here you will find some vocabulary around data and some different approaches to each step in the process.\n",
    "\n",
    "While gathering data, one might come across three main factors that would contribute to the quality of data:\n",
    "\n",
    "1. Accuracy:Erroneous values that deviate from the expected.The causes for inaccurate data can be various,which include:\n",
    "\n",
    "      - Human/computer errors during data entry and transmission\n",
    "      - Users deliberately submitting incorrect values (called disguised missing data)\n",
    "      - Incorrect formats for input fields\n",
    "      - Duplication of training examples\n",
    "      \n",
    "      \n",
    "2. Completeness: Lacking attribute/feature values or values of interest. The dataset might be incomplete due to:\n",
    "\n",
    "    - Unavailability of data\n",
    "    - Deletion of inconsistent data\n",
    "    - Deletion of data deemed irrelevant initially\n",
    "    \n",
    "    \n",
    "3. Consistency: Aggregation of data is inconsistent.\n",
    "\n",
    "Some other features that also affect the data quality include timeliness (the data is incomplete until all relevant information is submitted after certain time periods), believability (how much the data is trusted by the user) and interpretability (how easily the data is understood by all stakeholders).\n",
    "\n",
    "To ensure high quality data, it’s crucial to preprocess it. To make the process easier, data preprocessing is divided into four stages: **data cleaning, data integration, data reduction, and data transformation.**\n",
    "\n",
    "\n"
   ]
  },
  {
   "cell_type": "markdown",
   "metadata": {},
   "source": [
    "## Data cleaning\n",
    "Data cleaning refers to techniques to ‘clean’ data by removing outliers, replacing missing values, smoothing noisy data, and correcting inconsistent data. Many techniques are used to perform each of these tasks, where each technique is specific to user’s preference or problem set. Below, each task is explained in terms of the techniques used to overcome it.\n",
    "\n"
   ]
  },
  {
   "cell_type": "markdown",
   "metadata": {},
   "source": [
    "### Missing values\n",
    "In order to deal with missing data, multiple approaches can be used. Let’s look at each of them.\n",
    "\n",
    "1. Removing the training example: You can ignore the training example if the output label is missing (if it is a classification problem). This is usually discouraged as it leads to loss of data, as you are removing the attribute values that can add value to data set as well.\n",
    "\n",
    "\n",
    "2. Filling in missing value manually: This approach is time consuming, and not recommended for huge data sets.\n",
    "\n",
    "3. Using a standard value to replace the missing value: The missing value can be replaced by a global constant such as ‘N/A’ or ‘Unknown’. This is a simple approach, but not foolproof.\n",
    "\n",
    "4. Using central tendency (mean, median, mode) for attribute to replace the missing value: Based on data distribution, mean (in case of normal distribution) or median (for non-normal distribution) can be used to fill in for the missing value.\n",
    "\n",
    "5. Using central tendency (mean, median, mode) for attribute belonging to same class to replace the missing value: This is the same as method 4, except that the measures of central tendency are specific to each class.\n",
    "\n",
    "6. Using the most probable value to fill in the missing value: Using algorithms like regression and decision tree, the missing values can be predicted and replaced.\n",
    "\n",
    "\n",
    "### Noisy data\n",
    "Noise is defined as a random variance in a measured variable. For numeric values, boxplots and scatter plots can be used to identify outliers. To deal with these anomalous values, data smoothing techniques are applied, which are described below.\n",
    "\n",
    "- Binning: Using binning methods smooths sorted value by using the values around it. The sorted values are then divided into ‘bins’. There are various approaches to binning. Two of them are smoothing by bin means where each bin is replaced by the mean of bin’s values, and smoothing by bin medians where each bin is replaced by the median of bin’s values.\n",
    "\n",
    "\n",
    "- Regression: Linear regression and multiple linear regression can be used to smooth the data, where the values are conformed to a function.\n",
    "\n",
    "\n",
    "- Outlier analysis: Approaches such as clustering can be used to detect outliers and deal with them.\n",
    "\n",
    "\n",
    "## Data integration\n",
    "Since data is being collected from multiple sources, data integration has become a vital part of the process. This may lead to redundant and inconsistent data, which could result in poor accuracy and speed of data model. To deal with these issues and maintain the data integrity, approaches such as tuple duplication detection and data conflict detection are sought after. The most common approaches to integrate data are explained below.\n",
    "\n",
    "- Data consolidation: The data is physically bought together to one data store. This usually involves Data Warehousing.\n",
    "\n",
    "\n",
    "- Data propagation: Copying data from one location to another using applications is called data propagation. It can be synchronous or asynchronous and is event-driven.\n",
    "\n",
    "\n",
    "- Data virtualization: An interface is used to provide a real-time and unified view of data from multiple sources. The data can be viewed from a single point of access.\n",
    "\n",
    "\n",
    "## Data reduction\n",
    "The purpose of data reduction is to have a condensed representation of the data set which is smaller in volume, while maintaining the integrity of original. This results in efficient yet similar results. A few methods to reduce the volume of data are:\n",
    "\n",
    "- Missing values ratio: Attributes that have more missing values than a threshold are removed.\n",
    "\n",
    "\n",
    "- Low variance filter: Normalized attributes that have variance (distribution) less than a threshold are also removed, since little changes in data means less information.\n",
    "\n",
    "\n",
    "- High correlation filter: Normalized attributes that have correlation coefficient more than a threshold are also removed, since similar trends means similar information is carried. Correlation coefficient is usually calculates using statistical methods such as Pearson’s chi-square value etc.\n",
    "\n",
    "\n",
    "- Principal component analysis: Principal component analysis, or PCA, is a statistical method which reduces the numbers of attributes by lumping highly correlated attributes together. With each iteration, the initial features are reduced to principal components, with greater variance than the original set on the condition that they are uncorrelated with the preceding components. This method, however, only works for features with numerical values.\n",
    "\n",
    "\n",
    "\n",
    "## Data transformation\n",
    "The final step of data preprocessing is transforming the data into form appropriate for Data Modeling. Strategies that enable data transformation include:\n",
    "\n",
    "- Smoothing\n",
    "- Attribute/feature construction: New attributes are constructed from the given set of attributes.\n",
    "- Aggregation: Summary and Aggregation operations are applied on the given set of attributes to come up with new attributes.\n",
    "- Normalization: The data in each attribute is scaled between a smaller range e.g. 0 to 1 or -1 to 1.\n",
    "- Discretization: Raw values of the numeric attributes are replaced by discrete or conceptual intervals, which can in return be further organized into higher level intervals.\n",
    "- Concept hierarchy generation for nominal data: Values for nominal data are generalized to higher order concepts."
   ]
  },
  {
   "cell_type": "markdown",
   "metadata": {},
   "source": [
    "For some practice, visit [this](https://scikit-learn.org/stable/modules/preprocessing.html#preprocessing)."
   ]
  }
 ],
 "metadata": {
  "kernelspec": {
   "display_name": "Python 3",
   "language": "python",
   "name": "python3"
  },
  "language_info": {
   "codemirror_mode": {
    "name": "ipython",
    "version": 3
   },
   "file_extension": ".py",
   "mimetype": "text/x-python",
   "name": "python",
   "nbconvert_exporter": "python",
   "pygments_lexer": "ipython3",
   "version": "3.7.6"
  }
 },
 "nbformat": 4,
 "nbformat_minor": 2
}
