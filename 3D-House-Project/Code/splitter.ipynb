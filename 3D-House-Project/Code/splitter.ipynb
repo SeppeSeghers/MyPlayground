{
 "cells": [
  {
   "cell_type": "code",
   "execution_count": null,
   "metadata": {},
   "outputs": [],
   "source": [
    "import numpy as np\n",
    "import os\n",
    "import rasterio as rio"
   ]
  },
  {
   "cell_type": "code",
   "execution_count": null,
   "metadata": {},
   "outputs": [],
   "source": [
    "class Box:\n",
    "    def __init__(self, bounds=None, left:int=0, bottom:int=0, right:int=0, top:int=0):\n",
    "        if bounds is not None: self.left,self.bottom,self.right,self.top = bounds\n",
    "        else: self.left,self.bottom,self.right,self.top = left,bottom,right,top\n",
    "        self.width, self.height = self.right -self.left, self.top -self.bottom\n",
    "    def __str__(self):        \n",
    "        return \"left:{} bottom:{} right:{} top:{} width:{} height:{}\".format(\n",
    "            self.left, self.bottom, \n",
    "            self.right, self.top, \n",
    "            self.width, self.height)\n",
    "    def in_bounds(self, x:int, y:int) -> bool:\n",
    "        return self.left < x < self.right and self.bottom < y < self.top\n",
    "\n",
    "\n",
    "def cropper(origin, new_name, x, y, new_width, new_height):\n",
    "        origin_arr = np.array(origin.read(1))\n",
    "        origin_bounds = origin.bounds\n",
    "      \n",
    "        left = int(x * width)\n",
    "        right = int((x+1) * width)\n",
    "        bottom = int((y+1) * height)\n",
    "        top = int(y * height)\n",
    "            \n",
    "        new_left = origin_bounds.left + left\n",
    "        new_right = origin_bounds.left + right\n",
    "        new_bottom = origin_bounds.top - bottom\n",
    "        new_top = origin_bounds.top - top\n",
    "        \n",
    "        print(f\"[{x},{y}]: {new_left}{new_right}|{new_bottom}{new_top}\")\n",
    "        # crop out of the array\n",
    "        new_arr = origin_arr[left:right,top:bottom]\n",
    "        \n",
    "        new_meta = origin.meta\n",
    "        \n",
    "        # transform needs to be edited so the crop has correct coords\n",
    "        new_meta['transform'](\n",
    "            # new left-most coord\n",
    "            new_left,\n",
    "            # new bottom-most coord\n",
    "            new_bottom,\n",
    "            # new right-most coord\n",
    "            new_right,\n",
    "            # new top-most coord\n",
    "            new_top,\n",
    "            # new width\n",
    "            new_width,\n",
    "            # new height\n",
    "            new_height)\n",
    "\n",
    "        new_meta[\"width\"] = new_width\n",
    "        new_meta[\"height\"] = new_height\n",
    "\n",
    "        new_path = os.path.join(\"/media/seppe/DiskSpaceInvader/3DHouseData\",new_name)\n",
    "        # open a new file in write mode as destination\n",
    "        # **meta is the **kwargs passed to the tif\n",
    "        with rio.open(new_path, \"w\", **new_meta) as destination:\n",
    "            # write the pixel data with the **meta data\n",
    "            destination.write(new_arr, indexes=1)\n",
    "            print(\"new file: \",new_name)\n",
    "            destination.close()\n",
    "        return"
   ]
  }
 ],
 "metadata": {
  "kernelspec": {
   "display_name": "Python 3",
   "language": "python",
   "name": "python3"
  },
  "language_info": {
   "codemirror_mode": {
    "name": "ipython",
    "version": 3
   },
   "file_extension": ".py",
   "mimetype": "text/x-python",
   "name": "python",
   "nbconvert_exporter": "python",
   "pygments_lexer": "ipython3",
   "version": "3.7.6"
  }
 },
 "nbformat": 4,
 "nbformat_minor": 4
}
