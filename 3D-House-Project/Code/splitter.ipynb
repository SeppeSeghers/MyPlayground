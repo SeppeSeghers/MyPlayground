{
 "cells": [
  {
   "cell_type": "markdown",
   "metadata": {},
   "source": [
    "**Imports**\n",
    "\n",
    "numpy for arrays\n",
    "\n",
    "os for file searching and path manipulation\n",
    "\n",
    "rasterio for reading and writing .tif files."
   ]
  },
  {
   "cell_type": "code",
   "execution_count": 2,
   "metadata": {},
   "outputs": [],
   "source": [
    "import numpy as np\n",
    "import os\n",
    "import rasterio as rio"
   ]
  },
  {
   "cell_type": "markdown",
   "metadata": {},
   "source": [
    "**Box and Point Class**\n",
    "\n",
    "A class to better store bounds as a Box object, with a method to check whether a point is withinside a box."
   ]
  },
  {
   "cell_type": "code",
   "execution_count": 10,
   "metadata": {},
   "outputs": [
    {
     "name": "stdout",
     "output_type": "stream",
     "text": [
      "True\n",
      "False\n",
      "True\n"
     ]
    }
   ],
   "source": [
    "class OptionalArgumenterror(Exception):\n",
    "    pass\n",
    "\n",
    "class Box:\n",
    "    def __init__(self, bounds=None, left:int=0, bottom:int=0, right:int=0, top:int=0):\n",
    "        if bounds is not None: self.left,self.bottom,self.right,self.top = bounds\n",
    "        else: self.left,self.bottom,self.right,self.top = left,bottom,right,top\n",
    "        self.width, self.height = self.right -self.left, self.top -self.bottom\n",
    "    def __str__(self):        \n",
    "        return \"left:{} bottom:{} right:{} top:{} width:{} height:{}\".format(\n",
    "            self.left, self.bottom, \n",
    "            self.right, self.top, \n",
    "            self.width, self.height)\n",
    "    def in_bounds(self, x, y, op='exc') -> bool:\n",
    "        '''\n",
    "        in_bounds gets a x- and y-coordinate from a point, and an optional string (either 'exc' or 'inc')\n",
    "        and returns whether that points is inside this box (either excluding or including the border area)\n",
    "        '''\n",
    "        if op == 'exc':\n",
    "            return self.left < x < self.right and self.bottom < y < self.top\n",
    "        elif op == 'inc':\n",
    "            return self.left <= x <= self.right and self.bottom <= y <= self.top\n",
    "        else:\n",
    "            raise OptionalArgumenterror(f\"{op} is not allowed as an argument, use either 'inc' or 'exc'\")\n",
    "\n",
    "class Point:\n",
    "    def __init__(self, x:int=0, y:int=0):\n",
    "        self.x,self.y = x,y\n",
    "    def __str__(self):        \n",
    "        return \"x:{} y:{}\".format(\n",
    "            self.x, self.y)\n",
    "    \n",
    "test_box = Box(left=0,bottom=0,right=10,top=10)\n",
    "test_point = Point(5,5)\n",
    "another_point = Point(5,10)\n",
    "\n",
    "print(test_box.in_bounds(test_point.x,test_point.y))\n",
    "print(test_box.in_bounds(another_point.x,another_point.y))\n",
    "print(test_box.in_bounds(another_point.x,another_point.y, 'inc'))"
   ]
  },
  {
   "cell_type": "markdown",
   "metadata": {},
   "source": [
    "**My own Cropper**\n",
    "\n",
    "I didn't get it to work, so I used a slightly changed version of Maarten's subdivide, with some elements of my own try.\n",
    "\n",
    "I actually lost the exact code I used to split the files in a bad git merge, so I thought it would be best to just show my broken code and the subdivide together, instead of trying to replicate something I made before."
   ]
  },
  {
   "cell_type": "code",
   "execution_count": 3,
   "metadata": {},
   "outputs": [],
   "source": [
    "def cropper(origin, new_name, x, y, new_width, new_height):\n",
    "        origin_arr = np.array(origin.read(1))\n",
    "        origin_bounds = origin.bounds\n",
    "      \n",
    "        left = int(x * width)\n",
    "        right = int((x+1) * width)\n",
    "        bottom = int((y+1) * height)\n",
    "        top = int(y * height)\n",
    "            \n",
    "        new_left = origin_bounds.left + left\n",
    "        new_right = origin_bounds.left + right\n",
    "        new_bottom = origin_bounds.top - bottom\n",
    "        new_top = origin_bounds.top - top\n",
    "        \n",
    "        print(f\"[{x},{y}]: {new_left}{new_right}|{new_bottom}{new_top}\")\n",
    "        # crop out of the array\n",
    "        new_arr = origin_arr[left:right,top:bottom]\n",
    "        \n",
    "        new_meta = origin.meta\n",
    "        \n",
    "        # transform needs to be edited so the crop has correct coords\n",
    "        new_meta['transform'](\n",
    "            # new left-most coord\n",
    "            new_left,\n",
    "            # new bottom-most coord\n",
    "            new_bottom,\n",
    "            # new right-most coord\n",
    "            new_right,\n",
    "            # new top-most coord\n",
    "            new_top,\n",
    "            # new width\n",
    "            new_width,\n",
    "            # new height\n",
    "            new_height)\n",
    "\n",
    "        new_meta[\"width\"] = new_width\n",
    "        new_meta[\"height\"] = new_height\n",
    "\n",
    "        new_path = os.path.join(\"/media/seppe/DiskSpaceInvader/3DHouseData\",new_name)\n",
    "        # open a new file in write mode as destination\n",
    "        # **meta is the **kwargs passed to the tif\n",
    "        with rio.open(new_path, \"w\", **new_meta) as destination:\n",
    "            # write the pixel data with the **meta data\n",
    "            destination.write(new_arr, indexes=1)\n",
    "            print(\"new file: \",new_name)\n",
    "            destination.close()\n",
    "        return"
   ]
  },
  {
   "cell_type": "markdown",
   "metadata": {},
   "source": [
    "**Maarten's Subdivide**\n",
    "\n",
    "I will probably name my firstborn after Maarten. Without his feedback, I'd still be splitting .tif files."
   ]
  },
  {
   "cell_type": "code",
   "execution_count": null,
   "metadata": {},
   "outputs": [],
   "source": [
    "def subdivide(name:str, tif:rio.io.DatasetReader, sub:int=2) -> None:\n",
    "    if sub is 0: return\n",
    "    \n",
    "    arr = np.array(tif.read(1))\n",
    "    meta = tif.meta\n",
    "    bounds = tif.bounds\n",
    "    \n",
    "    meta[\"width\"]  /= 2\n",
    "    meta[\"height\"] /= 2\n",
    "    \n",
    "    sub_bound = {\n",
    "        0:(0,1,-1,0),\n",
    "        1:(1,1,0,0),\n",
    "        2:(0,0,-1,-1),\n",
    "        3:(1,0,0,-1)}\n",
    "    \n",
    "    sub_slice = {\n",
    "        0:{\"sx\":slice(None,int(meta[\"height\"])),\n",
    "           \"sy\":slice(None,int(meta[\"width\"]))},\n",
    "        1:{\"sx\":slice(None,int(meta[\"height\"])),\n",
    "           \"sy\":slice(int(meta[\"width\"]),None)},\n",
    "        2:{\"sx\":slice(int(meta[\"height\"]),None),\n",
    "           \"sy\":slice(None,int(meta[\"width\"]))},\n",
    "        3:{\"sx\":slice(int(meta[\"height\"]),None),\n",
    "           \"sy\":slice(int(meta[\"width\"]),None)}}\n",
    "    \n",
    "    for idx in range(4):        \n",
    "        meta[\"transform\"] = from_bounds(\n",
    "            bounds.left + meta[\"width\"] * sub_bound[idx][0],\n",
    "            bounds.bottom + meta[\"height\"] * sub_bound[idx][1],\n",
    "            bounds.right + meta[\"width\"] * sub_bound[idx][2],\n",
    "            bounds.top + meta[\"height\"] * sub_bound[idx][3],\n",
    "            meta[\"width\"], meta[\"height\"]\n",
    "        )\n",
    "        with rio.open(name +f\"_{idx}.tif\", \"w+\", **meta) as subdiv:\n",
    "            subdiv.write(arr[sub_slice[idx][\"sx\"],sub_slice[idx][\"sy\"]], indexes=1)\n",
    "            subdivide(name +f\"_{idx}\", subdiv, sub-1)\n",
    "            if sub > 1: os.remove(name +f\"_{idx}.tif\")\n",
    "            else: sub_lookup[name[2:] +f\"_{idx}\"] = Box(subdiv.bounds)\n",
    "\n",
    "sub_lookup = {} # !!! Should write to dataframe directly"
   ]
  },
  {
   "cell_type": "markdown",
   "metadata": {},
   "source": [
    "**File Searcher**\n",
    "\n",
    "loops through all files in a certain path, and applies a given function to every file of the desired type"
   ]
  },
  {
   "cell_type": "code",
   "execution_count": 5,
   "metadata": {},
   "outputs": [
    {
     "name": "stdout",
     "output_type": "stream",
     "text": [
      "Found project in:  /home/seppe/Projects/BeCode/3D-House-Project\n",
      "Found 88150 .tif files.\n",
      "88150\n"
     ]
    }
   ],
   "source": [
    "# get the relative path of the current project that this notebook is in\n",
    "project_path = os.path.abspath(os.path.join(\"readfiles.ipynb\", os.pardir, os.pardir))\n",
    "print(\"Found project in: \", project_path)\n",
    "data_path = os.path.join(project_path, \"Data\")\n",
    "\n",
    "external_data_path = \"/media/seppe/DiskSpaceInvader/3DHouseData\"\n",
    "\n",
    "\n",
    "def search_files(fpath: str, file_type: str, func):\n",
    "    '''\n",
    "    Walk through the folder containing the data, and check if the files match the file type\n",
    "    If so; open that file, and print how many there were found\n",
    "    '''\n",
    "    total_files = 0\n",
    "    for root, dirs, files in os.walk(fpath):\n",
    "        for name in files:\n",
    "            if name.endswith(file_type):\n",
    "                func(root + \"/\" + name)\n",
    "                total_files += 1\n",
    "    print(f\"Found {total_files} {file_type} files.\")\n",
    "    return\n",
    "\n",
    "\n",
    "all_tifs = []\n",
    "search_files(external_data_path, \".tif\", all_tifs.append)\n",
    "print(len(all_tifs))"
   ]
  },
  {
   "cell_type": "code",
   "execution_count": null,
   "metadata": {},
   "outputs": [],
   "source": [
    "# a function to pass as an argument to the search_files function\n",
    "def tifsplit(filepath):\n",
    "    '''\n",
    "    Call the subdivide fuction, with the new name, opened tif, and do 5 recursion divides on every file.\n",
    "    This will split every file into 1024 smaller files.\n",
    "    '''\n",
    "    tif = rio.open(filepath)\n",
    "    \n",
    "    # change name from /media/ ... /GeoTIFF/DHMVIIDSMRAS1m_k16.tif\n",
    "    #               to /media/ ... /GeoTIFF/DHMVIIDSMRAS1m_k16\n",
    "    name = filepath[:-4]\n",
    "    subdivide(name, tif, 5)\n",
    "\n",
    "# call searchfiles, and do a tifsplit on every tif file in the data path    \n",
    "search_files(external_data_path, \".tif\", tifsplit)"
   ]
  }
 ],
 "metadata": {
  "kernelspec": {
   "display_name": "Python 3",
   "language": "python",
   "name": "python3"
  },
  "language_info": {
   "codemirror_mode": {
    "name": "ipython",
    "version": 3
   },
   "file_extension": ".py",
   "mimetype": "text/x-python",
   "name": "python",
   "nbconvert_exporter": "python",
   "pygments_lexer": "ipython3",
   "version": "3.7.6"
  }
 },
 "nbformat": 4,
 "nbformat_minor": 4
}
