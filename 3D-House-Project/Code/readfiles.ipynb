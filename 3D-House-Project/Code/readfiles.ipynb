{
 "cells": [
  {
   "cell_type": "code",
   "execution_count": 52,
   "metadata": {},
   "outputs": [],
   "source": [
    "import numpy as np\n",
    "import pandas as pd\n",
    "import matplotlib.pyplot as plt\n",
    "import os\n",
    "import rasterio as rio\n",
    "import earthpy as et\n",
    "from PIL import Image\n",
    "import geopandas as gpd\n",
    "from rasterio.plot import show"
   ]
  },
  {
   "cell_type": "code",
   "execution_count": 22,
   "metadata": {
    "scrolled": true
   },
   "outputs": [
    {
     "name": "stdout",
     "output_type": "stream",
     "text": [
      "Found project in:  /home/becode/Projects/3D-House-Project\n",
      "/home/becode/Projects/3D-House-Project/Data/DHMVIIDSMRAS1m_k19/GeoTIFF/DHMVIIDSMRAS1m_k19.tif\n",
      "/home/becode/Projects/3D-House-Project/Data/DHMVIIDSMRAS1m_k19/DHMVII_vdc_k19/DHMVII_vdc_k19.shp\n",
      "Found  1  .tif files.\n",
      "Found  1  .shps files.\n"
     ]
    }
   ],
   "source": [
    "# get the relative path of the current project that this notebook is in\n",
    "project_path = os.path.abspath(os.path.join(\"readfiles.ipynb\", os.pardir, os.pardir))\n",
    "print(\"Found project in: \", project_path)\n",
    "data_path = os.path.join(project_path, \"Data\")\n",
    "\n",
    "\n",
    "\n",
    "def opentif(tif:str):\n",
    "    pass\n",
    "def openshp(shp:str):\n",
    "    pass\n",
    "\n",
    "\n",
    "tifs = 0\n",
    "shps = 0\n",
    "# Walk through the folder containing the data, and check if the files match either .tif or .shp\n",
    "# If so; open that file, and print how many there were found\n",
    "for root, dirs, files in os.walk(data_path):\n",
    "    for name in files:\n",
    "        if name.endswith(\".tif\"):\n",
    "            print(root + \"/\" + name)\n",
    "            #opentif(root + \"/\" + name)\n",
    "            tifs += 1\n",
    "        if name.endswith(\".shp\"):\n",
    "            print(root + \"/\" + name)\n",
    "            #openshp(root + \"/\" + name)\n",
    "            shps += 1\n",
    "\n",
    "print(\"Found \", tifs, \" .tif files.\")\n",
    "print(\"Found \", shps, \" .shps files.\")        "
   ]
  },
  {
   "cell_type": "code",
   "execution_count": 24,
   "metadata": {},
   "outputs": [],
   "source": [
    "# open the example .tif file (k19)\n",
    "if os.path.exists(\"../Data/DHMVIIDSMRAS1m_k19/GeoTIFF/DHMVIIDSMRAS1m_k19.tif\"):\n",
    "    tif_file = \"../Data/DHMVIIDSMRAS1m_k19/GeoTIFF/DHMVIIDSMRAS1m_k19.tif\"\n",
    "if os.path.exists(\"../Data/DHMVIIDSMRAS1m_k19/DHMVII_vdc_k19/DHMVII_vdc_k19.shp\"):\n",
    "    shape_file = \"../Data/DHMVIIDSMRAS1m_k19/DHMVII_vdc_k19/DHMVII_vdc_k19.shp\""
   ]
  },
  {
   "cell_type": "code",
   "execution_count": 56,
   "metadata": {
    "scrolled": true
   },
   "outputs": [
    {
     "name": "stdout",
     "output_type": "stream",
     "text": [
      "../Data/DHMVIIDSMRAS1m_k19/GeoTIFF/DHMVIIDSMRAS1m_k19.tif\n",
      "1\n",
      "17000\n",
      "20000\n",
      "BoundingBox(left=17000.0, bottom=178000.0, right=34000.0, top=198000.0)\n",
      "EPSG:31370\n",
      "(1,)\n"
     ]
    },
    {
     "ename": "NameError",
     "evalue": "name 'plot' is not defined",
     "output_type": "error",
     "traceback": [
      "\u001b[0;31m---------------------------------------------------------------------------\u001b[0m",
      "\u001b[0;31mNameError\u001b[0m                                 Traceback (most recent call last)",
      "\u001b[0;32m<ipython-input-56-5ff27b7817de>\u001b[0m in \u001b[0;36m<module>\u001b[0;34m()\u001b[0m\n\u001b[1;32m     16\u001b[0m \u001b[0;34m\u001b[0m\u001b[0m\n\u001b[1;32m     17\u001b[0m \u001b[0mmy_area\u001b[0m \u001b[0;34m=\u001b[0m \u001b[0mband1\u001b[0m\u001b[0;34m[\u001b[0m\u001b[0;36m1000\u001b[0m\u001b[0;34m:\u001b[0m\u001b[0;36m1100\u001b[0m\u001b[0;34m,\u001b[0m\u001b[0;36m1000\u001b[0m\u001b[0;34m:\u001b[0m\u001b[0;36m1100\u001b[0m\u001b[0;34m]\u001b[0m\u001b[0;34m\u001b[0m\u001b[0;34m\u001b[0m\u001b[0m\n\u001b[0;32m---> 18\u001b[0;31m \u001b[0mplot\u001b[0m\u001b[0;34m(\u001b[0m\u001b[0mmy_area\u001b[0m\u001b[0;34m)\u001b[0m\u001b[0;34m\u001b[0m\u001b[0;34m\u001b[0m\u001b[0m\n\u001b[0m\u001b[1;32m     19\u001b[0m \u001b[0mplt\u001b[0m\u001b[0;34m.\u001b[0m\u001b[0mshow\u001b[0m\u001b[0;34m\u001b[0m\u001b[0;34m\u001b[0m\u001b[0m\n\u001b[1;32m     20\u001b[0m \u001b[0;34m\u001b[0m\u001b[0m\n",
      "\u001b[0;31mNameError\u001b[0m: name 'plot' is not defined"
     ]
    },
    {
     "data": {
      "image/png": "[encoded data removed]",
      "text/plain": [
       "<Figure size 432x288 with 1 Axes>"
      ]
     },
     "metadata": {},
     "output_type": "display_data"
    }
   ],
   "source": [
    "# Make a raster from the .tif file and get some initial information\n",
    "georaster = rio.open(tif_file)\n",
    "print(georaster.name)\n",
    "print(georaster.count)\n",
    "print(georaster.width)\n",
    "print(georaster.height)\n",
    "print(georaster.bounds)\n",
    "print(georaster.crs)\n",
    "\n",
    "print(georaster.indexes)\n",
    "band1 = georaster.read(1)\n",
    "\n",
    "\n",
    "fig = plt.figure()\n",
    "ax = fig.gca()\n",
    "\n",
    "my_area = band1[1000:1100,1000:1100]\n",
    "plt.show\n",
    "\n",
    "\n",
    "kerk_box = ( \n",
    "    # bottom left corner\n",
    "    27280.19, 187427.64,\n",
    "    # top right corner\n",
    "    27333.87, 187468.36\n",
    ")\n"
   ]
  },
  {
   "cell_type": "code",
   "execution_count": 32,
   "metadata": {
    "scrolled": true
   },
   "outputs": [
    {
     "ename": "DecompressionBombError",
     "evalue": "Image size (340000000 pixels) exceeds limit of 178956970 pixels, could be decompression bomb DOS attack.",
     "output_type": "error",
     "traceback": [
      "\u001b[0;31m---------------------------------------------------------------------------\u001b[0m",
      "\u001b[0;31mDecompressionBombError\u001b[0m                    Traceback (most recent call last)",
      "\u001b[0;32m<ipython-input-32-6a9cec6d24ee>\u001b[0m in \u001b[0;36m<module>\u001b[0;34m()\u001b[0m\n\u001b[1;32m      1\u001b[0m \u001b[0;31m# Open the tif and store in array\u001b[0m\u001b[0;34m\u001b[0m\u001b[0;34m\u001b[0m\u001b[0;34m\u001b[0m\u001b[0m\n\u001b[0;32m----> 2\u001b[0;31m \u001b[0mtif\u001b[0m \u001b[0;34m=\u001b[0m \u001b[0mImage\u001b[0m\u001b[0;34m.\u001b[0m\u001b[0mopen\u001b[0m\u001b[0;34m(\u001b[0m\u001b[0mtif_file\u001b[0m\u001b[0;34m)\u001b[0m\u001b[0;34m\u001b[0m\u001b[0;34m\u001b[0m\u001b[0m\n\u001b[0m\u001b[1;32m      3\u001b[0m \u001b[0marr\u001b[0m \u001b[0;34m=\u001b[0m \u001b[0mnp\u001b[0m\u001b[0;34m.\u001b[0m\u001b[0marray\u001b[0m\u001b[0;34m(\u001b[0m\u001b[0mtif\u001b[0m\u001b[0;34m)\u001b[0m\u001b[0;34m\u001b[0m\u001b[0;34m\u001b[0m\u001b[0m\n\u001b[1;32m      4\u001b[0m \u001b[0;34m\u001b[0m\u001b[0m\n\u001b[1;32m      5\u001b[0m \u001b[0;31m# Get the meta data from .tif\u001b[0m\u001b[0;34m\u001b[0m\u001b[0;34m\u001b[0m\u001b[0;34m\u001b[0m\u001b[0m\n",
      "\u001b[0;32m/home/becode/.local/lib/python3.6/site-packages/PIL/Image.py\u001b[0m in \u001b[0;36mopen\u001b[0;34m(fp, mode)\u001b[0m\n\u001b[1;32m   2914\u001b[0m         \u001b[0;32mreturn\u001b[0m \u001b[0;32mNone\u001b[0m\u001b[0;34m\u001b[0m\u001b[0;34m\u001b[0m\u001b[0m\n\u001b[1;32m   2915\u001b[0m \u001b[0;34m\u001b[0m\u001b[0m\n\u001b[0;32m-> 2916\u001b[0;31m     \u001b[0mim\u001b[0m \u001b[0;34m=\u001b[0m \u001b[0m_open_core\u001b[0m\u001b[0;34m(\u001b[0m\u001b[0mfp\u001b[0m\u001b[0;34m,\u001b[0m \u001b[0mfilename\u001b[0m\u001b[0;34m,\u001b[0m \u001b[0mprefix\u001b[0m\u001b[0;34m)\u001b[0m\u001b[0;34m\u001b[0m\u001b[0;34m\u001b[0m\u001b[0m\n\u001b[0m\u001b[1;32m   2917\u001b[0m \u001b[0;34m\u001b[0m\u001b[0m\n\u001b[1;32m   2918\u001b[0m     \u001b[0;32mif\u001b[0m \u001b[0mim\u001b[0m \u001b[0;32mis\u001b[0m \u001b[0;32mNone\u001b[0m\u001b[0;34m:\u001b[0m\u001b[0;34m\u001b[0m\u001b[0;34m\u001b[0m\u001b[0m\n",
      "\u001b[0;32m/home/becode/.local/lib/python3.6/site-packages/PIL/Image.py\u001b[0m in \u001b[0;36m_open_core\u001b[0;34m(fp, filename, prefix)\u001b[0m\n\u001b[1;32m   2901\u001b[0m                     \u001b[0mfp\u001b[0m\u001b[0;34m.\u001b[0m\u001b[0mseek\u001b[0m\u001b[0;34m(\u001b[0m\u001b[0;36m0\u001b[0m\u001b[0;34m)\u001b[0m\u001b[0;34m\u001b[0m\u001b[0;34m\u001b[0m\u001b[0m\n\u001b[1;32m   2902\u001b[0m                     \u001b[0mim\u001b[0m \u001b[0;34m=\u001b[0m \u001b[0mfactory\u001b[0m\u001b[0;34m(\u001b[0m\u001b[0mfp\u001b[0m\u001b[0;34m,\u001b[0m \u001b[0mfilename\u001b[0m\u001b[0;34m)\u001b[0m\u001b[0;34m\u001b[0m\u001b[0;34m\u001b[0m\u001b[0m\n\u001b[0;32m-> 2903\u001b[0;31m                     \u001b[0m_decompression_bomb_check\u001b[0m\u001b[0;34m(\u001b[0m\u001b[0mim\u001b[0m\u001b[0;34m.\u001b[0m\u001b[0msize\u001b[0m\u001b[0;34m)\u001b[0m\u001b[0;34m\u001b[0m\u001b[0;34m\u001b[0m\u001b[0m\n\u001b[0m\u001b[1;32m   2904\u001b[0m                     \u001b[0;32mreturn\u001b[0m \u001b[0mim\u001b[0m\u001b[0;34m\u001b[0m\u001b[0;34m\u001b[0m\u001b[0m\n\u001b[1;32m   2905\u001b[0m             \u001b[0;32mexcept\u001b[0m \u001b[0;34m(\u001b[0m\u001b[0mSyntaxError\u001b[0m\u001b[0;34m,\u001b[0m \u001b[0mIndexError\u001b[0m\u001b[0;34m,\u001b[0m \u001b[0mTypeError\u001b[0m\u001b[0;34m,\u001b[0m \u001b[0mstruct\u001b[0m\u001b[0;34m.\u001b[0m\u001b[0merror\u001b[0m\u001b[0;34m)\u001b[0m\u001b[0;34m:\u001b[0m\u001b[0;34m\u001b[0m\u001b[0;34m\u001b[0m\u001b[0m\n",
      "\u001b[0;32m/home/becode/.local/lib/python3.6/site-packages/PIL/Image.py\u001b[0m in \u001b[0;36m_decompression_bomb_check\u001b[0;34m(size)\u001b[0m\n\u001b[1;32m   2826\u001b[0m         raise DecompressionBombError(\n\u001b[1;32m   2827\u001b[0m             \u001b[0;34m\"Image size (%d pixels) exceeds limit of %d pixels, \"\u001b[0m\u001b[0;34m\u001b[0m\u001b[0;34m\u001b[0m\u001b[0m\n\u001b[0;32m-> 2828\u001b[0;31m             \u001b[0;34m\"could be decompression bomb DOS attack.\"\u001b[0m \u001b[0;34m%\u001b[0m \u001b[0;34m(\u001b[0m\u001b[0mpixels\u001b[0m\u001b[0;34m,\u001b[0m \u001b[0;36m2\u001b[0m \u001b[0;34m*\u001b[0m \u001b[0mMAX_IMAGE_PIXELS\u001b[0m\u001b[0;34m)\u001b[0m\u001b[0;34m\u001b[0m\u001b[0;34m\u001b[0m\u001b[0m\n\u001b[0m\u001b[1;32m   2829\u001b[0m         )\n\u001b[1;32m   2830\u001b[0m \u001b[0;34m\u001b[0m\u001b[0m\n",
      "\u001b[0;31mDecompressionBombError\u001b[0m: Image size (340000000 pixels) exceeds limit of 178956970 pixels, could be decompression bomb DOS attack."
     ]
    }
   ],
   "source": [
    "# Open the tif and store in array\n",
    "tif = Image.open(tif_file)\n",
    "arr = np.array(tif)\n",
    "\n",
    "# Get the meta data from .tif\n",
    "meta = rio.open(tif_file).meta\n",
    "\n",
    "# Save the array with the meta data as new .tif\n",
    "with rio.open(\"./test2.tif\", \"w\", **meta) as dst:\n",
    "    dst.write(arr[:1000,:1000], indexes=1)\n",
    "\n",
    "# Open and show new .tif\n",
    "tif = Image.open(\"./test2.tif\")\n",
    "tif.show()"
   ]
  },
  {
   "cell_type": "code",
   "execution_count": null,
   "metadata": {},
   "outputs": [],
   "source": [
    "# Center of Sint-Marinus Kerk in Leisele is at X:27326.04 Y:187447.37\n",
    "# Top Left is at X:27280.19 Y:187468.36\n",
    "# Bottom Right is at X:27333.87 Y:187427.64\n",
    "kerk_box = ( \n",
    "    # bottom left corner\n",
    "    27280.19, 187427.64,\n",
    "    # top right corner\n",
    "    27333.87, 187468.36\n",
    ")\n",
    "\n",
    "fig = plt.figure()\n",
    "ax = fig.gca()\n",
    "\n",
    "kerk_leisele = gpd.read_file(georaster, bbox=kerk_box)\n",
    "# kerk_leisele = kerk_leisele.translate()\n",
    "# kerk_leisele = kerk_leisele.to_crs(georaster.crs)\n",
    "kerk_leisele.plot(ax=ax)\n",
    "#surf = ax.plot_surface(X, Y, Z, cmap=cm.coolwarm,\n",
    "#                       linewidth=0, antialiased=False)"
   ]
  },
  {
   "cell_type": "code",
   "execution_count": null,
   "metadata": {},
   "outputs": [],
   "source": []
  }
 ],
 "metadata": {
  "kernelspec": {
   "display_name": "Python 3",
   "language": "python",
   "name": "python3"
  },
  "language_info": {
   "codemirror_mode": {
    "name": "ipython",
    "version": 3
   },
   "file_extension": ".py",
   "mimetype": "text/x-python",
   "name": "python",
   "nbconvert_exporter": "python",
   "pygments_lexer": "ipython3",
   "version": "3.6.9"
  }
 },
 "nbformat": 4,
 "nbformat_minor": 2
}
