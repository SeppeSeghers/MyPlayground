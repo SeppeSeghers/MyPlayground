{
 "cells": [
  {
   "cell_type": "markdown",
   "metadata": {},
   "source": [
    "**Imports**\n",
    "\n",
    "pandas for dataframes\n",
    "\n",
    "os for file searching and path manipulation\n",
    "\n",
    "rasterio for accessing .tif files\n",
    "\n",
    "re for regex pattern finding in str\n",
    "\n",
    "IPython.display.clear_output for another way of outputting progress with print()"
   ]
  },
  {
   "cell_type": "code",
   "execution_count": 1,
   "metadata": {},
   "outputs": [],
   "source": [
    "import pandas as pd\n",
    "import os\n",
    "import rasterio as rio\n",
    "import re\n",
    "from IPython.display import clear_output"
   ]
  },
  {
   "cell_type": "markdown",
   "metadata": {},
   "source": [
    "**File Searcher**\n",
    "\n",
    "loops through all files in a certain path, and applies a given function to every file of the desired type"
   ]
  },
  {
   "cell_type": "code",
   "execution_count": 2,
   "metadata": {
    "scrolled": true
   },
   "outputs": [
    {
     "name": "stdout",
     "output_type": "stream",
     "text": [
      "Found project in:  /home/seppe/Projects/BeCode/3D-House-Project\n",
      "Found 88150 .tif files.\n"
     ]
    }
   ],
   "source": [
    "# get the relative path of the current project that this notebook is in\n",
    "project_path = os.path.abspath(os.path.join(\"readfiles.ipynb\", os.pardir, os.pardir))\n",
    "print(\"Found project in: \", project_path)\n",
    "data_path = os.path.join(project_path, \"Data\")\n",
    "\n",
    "external_data_path = \"/media/seppe/DiskSpaceInvader/3DHouseData\"\n",
    "\n",
    "\n",
    "def search_files(fpath: str, file_type: str, func):\n",
    "    total_files = 0\n",
    "    # Walk through the folder containing the data, and check if the files match the file type\n",
    "    # If so; open that file, and print how many there were found\n",
    "    for root, dirs, files in os.walk(fpath):\n",
    "        for name in files:\n",
    "            if name.endswith(file_type):\n",
    "                func(root + \"/\" + name)\n",
    "                total_files += 1\n",
    "    print(f\"Found {total_files} {file_type} files.\")\n",
    "    return\n",
    "\n",
    "# go through all files in the data path, \n",
    "# and store every .tif file in a list as a string containing the path to that file\n",
    "all_tifs = []\n",
    "search_files(external_data_path, \".tif\", all_tifs.append)"
   ]
  },
  {
   "cell_type": "markdown",
   "metadata": {},
   "source": [
    "**Filter**\n",
    "\n",
    "Since we only want the files that have been divided by the splitter, we want to ignore all the .tifs that don't use the same naming configuration.\n",
    "\n",
    "The files that we want to keep, will end in \"_\\d_\\d_\\d_\\d.tif\" where any \\d is either 0, 1, 2 or 3."
   ]
  },
  {
   "cell_type": "code",
   "execution_count": 3,
   "metadata": {
    "scrolled": true
   },
   "outputs": [
    {
     "name": "stdout",
     "output_type": "stream",
     "text": [
      "88064\n",
      "88150\n",
      "True\n"
     ]
    }
   ],
   "source": [
    "def filter_list(lst:[str], txt_pattern:str) -> [str]:\n",
    "    filtered = []\n",
    "    for txt in lst:\n",
    "        if re.search(txt_pattern, txt):\n",
    "            filtered.append(txt)\n",
    "    return filtered\n",
    "\n",
    "# filter all tif files, and only select those that follow my naming convention\n",
    "small_tifs = filter_list(all_tifs, \"_\\d_\\d_\\d_\\d.tif\")\n",
    "\n",
    "# when checking the length of this list vs. the one containing all, \n",
    "# there should be 86 files less, since that's the number of original large tifs\n",
    "print(len(small_tifs))\n",
    "print(len(all_tifs))\n",
    "print(len(all_tifs)-len(small_tifs) == 86)"
   ]
  },
  {
   "cell_type": "markdown",
   "metadata": {},
   "source": [
    "**Dictionary**\n",
    "\n",
    "Constructs a panda dataframe containing the necessary info about every .tif file in a list of tifs, so that these files shouldn't be opened to find a single location anymore. It's kind of like an address book, with every row containing the string with the path to the file, and a few key specifics of this file.\n",
    "\n",
    "This dictionary is not really a python Dict type. I know, it's a terribly confusing name, but I really couldn't find anything more intuitive. SorryNotSorry\n",
    "\n",
    "After constructing this, store it locally as a .csv so it can be accessed from anywhere at anytime."
   ]
  },
  {
   "cell_type": "code",
   "execution_count": 4,
   "metadata": {},
   "outputs": [
    {
     "ename": "KeyboardInterrupt",
     "evalue": "",
     "output_type": "error",
     "traceback": [
      "\u001b[0;31m---------------------------------------------------------------------------\u001b[0m",
      "\u001b[0;31mKeyboardInterrupt\u001b[0m                         Traceback (most recent call last)",
      "\u001b[0;32m<ipython-input-4-a6402d2744fb>\u001b[0m in \u001b[0;36m<module>\u001b[0;34m\u001b[0m\n\u001b[1;32m     34\u001b[0m     \u001b[0;32mreturn\u001b[0m \u001b[0mdf\u001b[0m\u001b[0;34m\u001b[0m\u001b[0;34m\u001b[0m\u001b[0m\n\u001b[1;32m     35\u001b[0m \u001b[0;34m\u001b[0m\u001b[0m\n\u001b[0;32m---> 36\u001b[0;31m \u001b[0mdict_panda\u001b[0m \u001b[0;34m=\u001b[0m \u001b[0mmake_dict_panda\u001b[0m\u001b[0;34m(\u001b[0m\u001b[0msmall_tifs\u001b[0m\u001b[0;34m)\u001b[0m\u001b[0;34m\u001b[0m\u001b[0;34m\u001b[0m\u001b[0m\n\u001b[0m\u001b[1;32m     37\u001b[0m \u001b[0;34m\u001b[0m\u001b[0m\n\u001b[1;32m     38\u001b[0m \u001b[0;31m# Save the DataFrame to a csv file so it doesn't have to be constructed every time.\u001b[0m\u001b[0;34m\u001b[0m\u001b[0;34m\u001b[0m\u001b[0;34m\u001b[0m\u001b[0m\n",
      "\u001b[0;32m<ipython-input-4-a6402d2744fb>\u001b[0m in \u001b[0;36mmake_dict_panda\u001b[0;34m(lst)\u001b[0m\n\u001b[1;32m     10\u001b[0m     \u001b[0;32mfor\u001b[0m \u001b[0mfpath\u001b[0m \u001b[0;32min\u001b[0m \u001b[0mlst\u001b[0m\u001b[0;34m:\u001b[0m\u001b[0;34m\u001b[0m\u001b[0;34m\u001b[0m\u001b[0m\n\u001b[1;32m     11\u001b[0m         \u001b[0mi\u001b[0m \u001b[0;34m+=\u001b[0m \u001b[0;36m1\u001b[0m\u001b[0;34m\u001b[0m\u001b[0;34m\u001b[0m\u001b[0m\n\u001b[0;32m---> 12\u001b[0;31m         \u001b[0mtif\u001b[0m \u001b[0;34m=\u001b[0m \u001b[0mrio\u001b[0m\u001b[0;34m.\u001b[0m\u001b[0mopen\u001b[0m\u001b[0;34m(\u001b[0m\u001b[0mfpath\u001b[0m\u001b[0;34m)\u001b[0m\u001b[0;34m\u001b[0m\u001b[0;34m\u001b[0m\u001b[0m\n\u001b[0m\u001b[1;32m     13\u001b[0m         d.append(\n\u001b[1;32m     14\u001b[0m             {\n",
      "\u001b[0;32m~/anaconda3/lib/python3.7/site-packages/rasterio/env.py\u001b[0m in \u001b[0;36mwrapper\u001b[0;34m(*args, **kwds)\u001b[0m\n\u001b[1;32m    431\u001b[0m \u001b[0;34m\u001b[0m\u001b[0m\n\u001b[1;32m    432\u001b[0m         \u001b[0;32mwith\u001b[0m \u001b[0menv_ctor\u001b[0m\u001b[0;34m(\u001b[0m\u001b[0msession\u001b[0m\u001b[0;34m=\u001b[0m\u001b[0msession\u001b[0m\u001b[0;34m)\u001b[0m\u001b[0;34m:\u001b[0m\u001b[0;34m\u001b[0m\u001b[0;34m\u001b[0m\u001b[0m\n\u001b[0;32m--> 433\u001b[0;31m             \u001b[0;32mreturn\u001b[0m \u001b[0mf\u001b[0m\u001b[0;34m(\u001b[0m\u001b[0;34m*\u001b[0m\u001b[0margs\u001b[0m\u001b[0;34m,\u001b[0m \u001b[0;34m**\u001b[0m\u001b[0mkwds\u001b[0m\u001b[0;34m)\u001b[0m\u001b[0;34m\u001b[0m\u001b[0;34m\u001b[0m\u001b[0m\n\u001b[0m\u001b[1;32m    434\u001b[0m \u001b[0;34m\u001b[0m\u001b[0m\n\u001b[1;32m    435\u001b[0m     \u001b[0;32mreturn\u001b[0m \u001b[0mwrapper\u001b[0m\u001b[0;34m\u001b[0m\u001b[0;34m\u001b[0m\u001b[0m\n",
      "\u001b[0;32m~/anaconda3/lib/python3.7/site-packages/rasterio/__init__.py\u001b[0m in \u001b[0;36mopen\u001b[0;34m(fp, mode, driver, width, height, count, crs, transform, dtype, nodata, sharing, **kwargs)\u001b[0m\n\u001b[1;32m    216\u001b[0m         \u001b[0;31m# None.\u001b[0m\u001b[0;34m\u001b[0m\u001b[0;34m\u001b[0m\u001b[0;34m\u001b[0m\u001b[0m\n\u001b[1;32m    217\u001b[0m         \u001b[0;32mif\u001b[0m \u001b[0mmode\u001b[0m \u001b[0;34m==\u001b[0m \u001b[0;34m'r'\u001b[0m\u001b[0;34m:\u001b[0m\u001b[0;34m\u001b[0m\u001b[0;34m\u001b[0m\u001b[0m\n\u001b[0;32m--> 218\u001b[0;31m             \u001b[0ms\u001b[0m \u001b[0;34m=\u001b[0m \u001b[0mDatasetReader\u001b[0m\u001b[0;34m(\u001b[0m\u001b[0mpath\u001b[0m\u001b[0;34m,\u001b[0m \u001b[0mdriver\u001b[0m\u001b[0;34m=\u001b[0m\u001b[0mdriver\u001b[0m\u001b[0;34m,\u001b[0m \u001b[0msharing\u001b[0m\u001b[0;34m=\u001b[0m\u001b[0msharing\u001b[0m\u001b[0;34m,\u001b[0m \u001b[0;34m**\u001b[0m\u001b[0mkwargs\u001b[0m\u001b[0;34m)\u001b[0m\u001b[0;34m\u001b[0m\u001b[0;34m\u001b[0m\u001b[0m\n\u001b[0m\u001b[1;32m    219\u001b[0m         \u001b[0;32melif\u001b[0m \u001b[0mmode\u001b[0m \u001b[0;34m==\u001b[0m \u001b[0;34m\"r+\"\u001b[0m\u001b[0;34m:\u001b[0m\u001b[0;34m\u001b[0m\u001b[0;34m\u001b[0m\u001b[0m\n\u001b[1;32m    220\u001b[0m             s = get_writer_for_path(path, driver=driver)(\n",
      "\u001b[0;32mrasterio/_base.pyx\u001b[0m in \u001b[0;36mrasterio._base.DatasetBase.__init__\u001b[0;34m()\u001b[0m\n",
      "\u001b[0;32m~/anaconda3/lib/python3.7/site-packages/rasterio/path.py\u001b[0m in \u001b[0;36mname\u001b[0;34m(self)\u001b[0m\n\u001b[1;32m    104\u001b[0m     \u001b[0mpath\u001b[0m \u001b[0;34m=\u001b[0m \u001b[0mattr\u001b[0m\u001b[0;34m.\u001b[0m\u001b[0mib\u001b[0m\u001b[0;34m(\u001b[0m\u001b[0;34m)\u001b[0m\u001b[0;34m\u001b[0m\u001b[0;34m\u001b[0m\u001b[0m\n\u001b[1;32m    105\u001b[0m \u001b[0;34m\u001b[0m\u001b[0m\n\u001b[0;32m--> 106\u001b[0;31m     \u001b[0;34m@\u001b[0m\u001b[0mproperty\u001b[0m\u001b[0;34m\u001b[0m\u001b[0;34m\u001b[0m\u001b[0m\n\u001b[0m\u001b[1;32m    107\u001b[0m     \u001b[0;32mdef\u001b[0m \u001b[0mname\u001b[0m\u001b[0;34m(\u001b[0m\u001b[0mself\u001b[0m\u001b[0;34m)\u001b[0m\u001b[0;34m:\u001b[0m\u001b[0;34m\u001b[0m\u001b[0;34m\u001b[0m\u001b[0m\n\u001b[1;32m    108\u001b[0m         \u001b[0;34m\"\"\"The unparsed path's original path\"\"\"\u001b[0m\u001b[0;34m\u001b[0m\u001b[0;34m\u001b[0m\u001b[0m\n",
      "\u001b[0;31mKeyboardInterrupt\u001b[0m: "
     ]
    }
   ],
   "source": [
    "def make_dict_panda(lst:[str]):\n",
    "    # just a way of presenting progress in creating the panda to the user\n",
    "    # divides the length of the input list into percentages\n",
    "    lst_len = len(lst)\n",
    "    onepercent = lst_len // 100\n",
    "    i = 0\n",
    "    percent_finished = 0\n",
    "    \n",
    "    d = []\n",
    "    for fpath in lst:\n",
    "        i += 1\n",
    "        tif = rio.open(fpath)\n",
    "        d.append(\n",
    "            {\n",
    "                'file_path': fpath,\n",
    "                'id': fpath[-17:-4],    #store the substring of the filename that is relevant.\n",
    "                                        # ex. DSM(k19_0_1_2_3_0).tif only what's inside the brackets is stored\n",
    "                'left_bound': tif.bounds.left,\n",
    "                'bottom_bound': tif.bounds.bottom,\n",
    "                'right_bound': tif.bounds.right,\n",
    "                'top_bound': tif.bounds.top,\n",
    "                'width_bound': tif.width,\n",
    "                'height_bound': tif.height\n",
    "            }\n",
    "        )     \n",
    "        tif.close()\n",
    "        \n",
    "        # a more visually pleasing way of showing that this is working\n",
    "        if i%onepercent == 0:\n",
    "            percent_finished += 1\n",
    "            print(f\"{percent_finished}% | file {i} of {lst_len}\")\n",
    "            clear_output(wait=True)\n",
    "    df = pd.DataFrame(d)\n",
    "    return df\n",
    "\n",
    "dict_panda = make_dict_panda(small_tifs)\n",
    "\n",
    "# Save the DataFrame to a csv file so it doesn't have to be constructed every time.\n",
    "dict_panda.to_csv(os.path.join(project_path, \"overviewdataframe.csv\"), encoding='utf-8', index=False)\n",
    "dict_panda.info"
   ]
  },
  {
   "cell_type": "code",
   "execution_count": null,
   "metadata": {},
   "outputs": [],
   "source": []
  }
 ],
 "metadata": {
  "kernelspec": {
   "display_name": "Python 3",
   "language": "python",
   "name": "python3"
  },
  "language_info": {
   "codemirror_mode": {
    "name": "ipython",
    "version": 3
   },
   "file_extension": ".py",
   "mimetype": "text/x-python",
   "name": "python",
   "nbconvert_exporter": "python",
   "pygments_lexer": "ipython3",
   "version": "3.7.6"
  }
 },
 "nbformat": 4,
 "nbformat_minor": 2
}
