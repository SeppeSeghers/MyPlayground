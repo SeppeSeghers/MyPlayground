{
 "cells": [
  {
   "cell_type": "markdown",
   "metadata": {},
   "source": [
    "**Imports**\n",
    "\n",
    "pandas for dataframes\n",
    "\n",
    "os for file searching and path manipulation\n",
    "\n",
    "rasterio for accessing .tif files\n",
    "\n",
    "re for regex pattern finding in str\n",
    "\n",
    "IPython.display.clear_output for another way of outputting progress with print()"
   ]
  },
  {
   "cell_type": "code",
   "execution_count": 1,
   "metadata": {},
   "outputs": [],
   "source": [
    "import pandas as pd\n",
    "import os\n",
    "import rasterio as rio\n",
    "import re\n",
    "from IPython.display import clear_output"
   ]
  },
  {
   "cell_type": "markdown",
   "metadata": {},
   "source": [
    "**File Searcher**\n",
    "\n",
    "loops through all files in a certain path, and applies a given function to every file of the desired type"
   ]
  },
  {
   "cell_type": "code",
   "execution_count": 5,
   "metadata": {
    "scrolled": true
   },
   "outputs": [
    {
     "name": "stdout",
     "output_type": "stream",
     "text": [
      "Found project in:  /home/seppe/Projects/BeCode/3D-House-Project\n",
      "Found 88150 .tif files.\n"
     ]
    }
   ],
   "source": [
    "# get the relative path of the current project that this notebook is in\n",
    "project_path = os.path.abspath(os.path.join(\"readfiles.ipynb\", os.pardir, os.pardir))\n",
    "print(\"Found project in: \", project_path)\n",
    "data_path = os.path.join(project_path, \"Data\")\n",
    "\n",
    "external_data_path = \"/media/seppe/DiskSpaceInvader/3DHouseData\"\n",
    "\n",
    "\n",
    "def search_files(fpath: str, file_type: str, func):\n",
    "    total_files = 0\n",
    "    # Walk through the folder containing the data, and check if the files match the file type\n",
    "    # If so; open that file, and print how many there were found\n",
    "    for root, dirs, files in os.walk(fpath):\n",
    "        for name in files:\n",
    "            if name.endswith(file_type):\n",
    "                func(root + \"/\" + name)\n",
    "                total_files += 1\n",
    "    print(f\"Found {total_files} {file_type} files.\")\n",
    "    return\n",
    "\n",
    "# go through all files in the data path, \n",
    "# and store every .tif file in a list as a string containing the path to that file\n",
    "all_tifs = []\n",
    "search_files(external_data_path, \".tif\", all_tifs.append)"
   ]
  },
  {
   "cell_type": "markdown",
   "metadata": {},
   "source": [
    "**Filter**\n",
    "\n",
    "Since we only want the files that have been divided by the splitter, we want to ignore all the .tifs that don't use the same naming configuration.\n",
    "\n",
    "The files that we want to keep, will end in \"_\\d_\\d_\\d_\\d.tif\" where any \\d is either 0, 1, 2 or 3."
   ]
  },
  {
   "cell_type": "code",
   "execution_count": 7,
   "metadata": {
    "scrolled": true
   },
   "outputs": [
    {
     "name": "stdout",
     "output_type": "stream",
     "text": [
      "88064\n",
      "88150\n",
      "True\n"
     ]
    }
   ],
   "source": [
    "def filter_list(lst:[str], txt_pattern:str) -> [str]:\n",
    "    filtered = []\n",
    "    for txt in lst:\n",
    "        if re.search(txt_pattern, txt):\n",
    "            filtered.append(txt)\n",
    "    return filtered\n",
    "\n",
    "# filter all tif files, and only select those that follow my naming convention\n",
    "small_tifs = filter_list(all_tifs, \"_\\d_\\d_\\d_\\d.tif\")\n",
    "\n",
    "# when checking the length of this list vs. the one containing all, \n",
    "# there should be 86 files less, since that's the number of original large tifs\n",
    "print(len(small_tifs))\n",
    "print(len(all_tifs))\n",
    "print(len(all_tifs)-len(small_tifs) == 86)"
   ]
  },
  {
   "cell_type": "markdown",
   "metadata": {},
   "source": [
    "**Dictionary**\n",
    "\n",
    "Constructs a panda dataframe containing the necessary info about every .tif file in a list of tifs, so that these files shouldn't be opened to find a single location anymore. It's kind of like an address book, with every row containing the string with the path to the file, and a few key specifics of this file.\n",
    "\n",
    "This dictionary is not really a python Dict type. I know, it's a terribly confusing name, but I really couldn't find anything more intuitive. SorryNotSorry\n",
    "\n",
    "After constructing this, store it locally as a .csv so it can be accessed from anywhere at anytime."
   ]
  },
  {
   "cell_type": "code",
   "execution_count": 4,
   "metadata": {},
   "outputs": [
    {
     "data": {
      "text/plain": [
       "<bound method DataFrame.info of                                                file_path             id  \\\n",
       "0      /media/seppe/DiskSpaceInvader/3DHouseData/DHMV...  k23_0_0_0_0_0   \n",
       "1      /media/seppe/DiskSpaceInvader/3DHouseData/DHMV...  k23_0_0_0_0_1   \n",
       "2      /media/seppe/DiskSpaceInvader/3DHouseData/DHMV...  k23_0_0_0_0_2   \n",
       "3      /media/seppe/DiskSpaceInvader/3DHouseData/DHMV...  k23_0_0_0_0_3   \n",
       "4      /media/seppe/DiskSpaceInvader/3DHouseData/DHMV...  k23_0_0_0_1_0   \n",
       "...                                                  ...            ...   \n",
       "88059  /media/seppe/DiskSpaceInvader/3DHouseData/DHMV...  k16_3_3_3_2_3   \n",
       "88060  /media/seppe/DiskSpaceInvader/3DHouseData/DHMV...  k16_3_3_3_3_0   \n",
       "88061  /media/seppe/DiskSpaceInvader/3DHouseData/DHMV...  k16_3_3_3_3_1   \n",
       "88062  /media/seppe/DiskSpaceInvader/3DHouseData/DHMV...  k16_3_3_3_3_2   \n",
       "88063  /media/seppe/DiskSpaceInvader/3DHouseData/DHMV...  k16_3_3_3_3_3   \n",
       "\n",
       "       left_bound  bottom_bound  right_bound  top_bound  width_bound  \\\n",
       "0        130000.0      197375.0     131000.0   198000.0         1000   \n",
       "1        131000.0      197375.0     132000.0   198000.0         1000   \n",
       "2        130000.0      196750.0     131000.0   197375.0         1000   \n",
       "3        131000.0      196750.0     132000.0   197375.0         1000   \n",
       "4        132000.0      197375.0     133000.0   198000.0         1000   \n",
       "...           ...           ...          ...        ...          ...   \n",
       "88059    191000.0      198000.0     192000.0   198625.0         1000   \n",
       "88060    192000.0      198625.0     193000.0   199250.0         1000   \n",
       "88061    193000.0      198625.0     194000.0   199250.0         1000   \n",
       "88062    192000.0      198000.0     193000.0   198625.0         1000   \n",
       "88063    193000.0      198000.0     194000.0   198625.0         1000   \n",
       "\n",
       "       height_bound  \n",
       "0               625  \n",
       "1               625  \n",
       "2               625  \n",
       "3               625  \n",
       "4               625  \n",
       "...             ...  \n",
       "88059           625  \n",
       "88060           625  \n",
       "88061           625  \n",
       "88062           625  \n",
       "88063           625  \n",
       "\n",
       "[88064 rows x 8 columns]>"
      ]
     },
     "execution_count": 4,
     "metadata": {},
     "output_type": "execute_result"
    }
   ],
   "source": [
    "def make_dict_panda(lst:[str]):\n",
    "    # just a way of presenting progress in creating the panda to the user\n",
    "    # divides the length of the input list into percentages\n",
    "    lst_len = len(lst)\n",
    "    onepercent = lst_len // 100\n",
    "    i = 0\n",
    "    percent_finished = 0\n",
    "    \n",
    "    d = []\n",
    "    for fpath in lst:\n",
    "        i += 1\n",
    "        tif = rio.open(fpath)\n",
    "        d.append(\n",
    "            {\n",
    "                'file_path': fpath,\n",
    "                'id': fpath[-17:-4],    #store the substring of the filename that is relevant.\n",
    "                                        # ex. DSM(k19_0_1_2_3_0).tif only what's inside the brackets is stored\n",
    "                'left_bound': tif.bounds.left,\n",
    "                'bottom_bound': tif.bounds.bottom,\n",
    "                'right_bound': tif.bounds.right,\n",
    "                'top_bound': tif.bounds.top,\n",
    "                'width_bound': tif.width,\n",
    "                'height_bound': tif.height\n",
    "            }\n",
    "        )     \n",
    "        tif.close()\n",
    "        \n",
    "        # a more visually pleasing way of showing that this is working\n",
    "        if i%onepercent == 0:\n",
    "            percent_finished += 1\n",
    "            print(f\"{percent_finished}% | file {i} of {lst_len}\")\n",
    "            clear_output(wait=True)\n",
    "    df = pd.DataFrame(d)\n",
    "    return df\n",
    "\n",
    "dict_panda = make_dict_panda(small_tifs)\n",
    "\n",
    "# Save the DataFrame to a csv file so it doesn't have to be constructed every time.\n",
    "dict_panda.to_csv(os.path.join(project_path, \"overviewdataframe.csv\"), encoding='utf-8', index=False)\n",
    "dict_panda.info"
   ]
  }
 ],
 "metadata": {
  "kernelspec": {
   "display_name": "Python 3",
   "language": "python",
   "name": "python3"
  },
  "language_info": {
   "codemirror_mode": {
    "name": "ipython",
    "version": 3
   },
   "file_extension": ".py",
   "mimetype": "text/x-python",
   "name": "python",
   "nbconvert_exporter": "python",
   "pygments_lexer": "ipython3",
   "version": "3.7.6"
  }
 },
 "nbformat": 4,
 "nbformat_minor": 2
}
