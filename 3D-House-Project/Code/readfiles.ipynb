{
 "cells": [
  {
   "cell_type": "markdown",
   "metadata": {},
   "source": [
    "**Imports**"
   ]
  },
  {
   "cell_type": "code",
   "execution_count": 5,
   "metadata": {},
   "outputs": [],
   "source": [
    "import numpy as np\n",
    "import pandas as pd\n",
    "import matplotlib.pyplot as plt\n",
    "import os\n",
    "import rasterio as rio\n",
    "import geopandas as gpd\n",
    "from rasterio.plot import show\n",
    "from rasterio.transform import from_bounds"
   ]
  },
  {
   "cell_type": "code",
   "execution_count": 6,
   "metadata": {},
   "outputs": [],
   "source": [
    "class Box:\n",
    "    def __init__(self, bounds=None, left:int=0, bottom:int=0, right:int=0, top:int=0):\n",
    "        if bounds is not None: self.left,self.bottom,self.right,self.top = bounds\n",
    "        else: self.left,self.bottom,self.right,self.top = left,bottom,right,top\n",
    "        self.width, self.height = self.right -self.left, self.top -self.bottom\n",
    "    def __str__(self):\n",
    "        return \"left:{} bottom:{} right:{} top:{} width:{} height:{}\".format(\n",
    "            self.left, self.bottom, self.right, self.top, self.width, self.height)\n",
    "    def in_bounds(self, x:int, y:int) -> bool:\n",
    "        return self.left < x < self.right and self.bottom < y < self.top"
   ]
  },
  {
   "cell_type": "markdown",
   "metadata": {},
   "source": [
    "**Cropper**"
   ]
  },
  {
   "cell_type": "code",
   "execution_count": 2,
   "metadata": {},
   "outputs": [],
   "source": [
    "def cropper(origin, new_name, x, y, new_width, new_height):\n",
    "    origin_arr = np.array(origin.read(1))\n",
    "    origin_bounds = origin.bounds\n",
    "    \n",
    "    left = int(x * width)\n",
    "    right = int((x+1) * width)\n",
    "    bottom = int((y+1) * height)\n",
    "    top = int(y * height)\n",
    "        \n",
    "    new_left = origin_bounds.left + left\n",
    "    new_right = origin_bounds.left + right\n",
    "    new_bottom = origin_bounds.top - bottom\n",
    "    new_top = origin_bounds.top - top\n",
    "    \n",
    "    print(f\"[{x},{y}]: {new_left}{new_right}|{new_bottom}{new_top}\")\n",
    "    # crop out of the array\n",
    "    new_arr = origin_arr[left:right,top:bottom]\n",
    "    \n",
    "    new_meta = origin.meta\n",
    "    \n",
    "    # transform needs to be edited so the crop has correct coords\n",
    "    new_meta['transform'](\n",
    "        # new left-most coord\n",
    "        new_left, \n",
    "        # new bottom-most coord\n",
    "        new_bottom, \n",
    "        # new right-most coord\n",
    "        new_right, \n",
    "        # new top-most coord\n",
    "        new_top, \n",
    "        # new width\n",
    "        new_width,\n",
    "        # new height\n",
    "        new_height)\n",
    "    \n",
    "    new_meta[\"width\"] = new_width\n",
    "    new_meta[\"height\"] = new_height\n",
    "    \n",
    "    new_path = os.path.join(\"/media/seppe/DiskSpaceInvader/3DHouseData\",new_name)\n",
    "    # open a new file in write mode as destination\n",
    "    # **meta is the **kwargs passed to the tif\n",
    "    with rio.open(new_path, \"w\", **new_meta) as destination:\n",
    "        # write the pixel data with the **meta data\n",
    "        destination.write(new_arr, indexes=1)\n",
    "        print(\"new file: \",new_name)\n",
    "        destination.close()\n",
    "    return"
   ]
  },
  {
   "cell_type": "markdown",
   "metadata": {},
   "source": [
    "**Splitter**"
   ]
  },
  {
   "cell_type": "code",
   "execution_count": 3,
   "metadata": {},
   "outputs": [],
   "source": [
    "def splitter(tiff_path:str, div:int = 10):\n",
    "    # read the name of the file, without the file extension, and save it as name\n",
    "    name = os.path.split(tiff_path)[1][:-4]\n",
    "    \n",
    "    tiff = rio.open(tiff_path)\n",
    "    tiff_arr = np.array(tiff.read(1))\n",
    "    tiff_meta = tiff.meta\n",
    "    origin_bounds = tiff.bounds\n",
    "    \n",
    "    origin_width = origin_bounds.right - origin_bounds.left\n",
    "    origin_height = origin_bounds.top - origin_bounds.bottom\n",
    "    print(origin_width, origin_height)\n",
    "    \n",
    "    if (origin_width%div == 0) and (origin_height%div == 0):\n",
    "        width_div = origin_width/div\n",
    "        height_div = origin_height/div\n",
    "        for i in range(div):\n",
    "            for j in range(div):                \n",
    "                # call the cropper function, with a new filename, and the current i and j\n",
    "                cropper(tiff, \n",
    "                        f\"{name}cutx{i}y{j}.tif\", \n",
    "                        i, j, \n",
    "                        width_div, height_div)\n",
    "        tiff.close()\n",
    "        os.remove(tiff_path)\n",
    "    else:\n",
    "        print(\"error in: \", tiff_path, \" These bounds can't be divided by \", str(div))\n",
    "    return\n",
    "\n",
    "    \n"
   ]
  },
  {
   "cell_type": "markdown",
   "metadata": {},
   "source": [
    "*Maarten's Subdivide*"
   ]
  },
  {
   "cell_type": "code",
   "execution_count": null,
   "metadata": {},
   "outputs": [],
   "source": [
    "k15_path = \"/home/becode/Projects/3D_House/LIDAR/k15/DHMVIIDSMRAS1m_k15/GeoTIFF/DHMVIIDSMRAS1m_k15.tif\"\n",
    "k15_tif = rio.open(k15_path)\n",
    "subdivide(\"./k15\", k15_tif, 5)\n",
    "print(\"Done!\")"
   ]
  },
  {
   "cell_type": "markdown",
   "metadata": {},
   "source": [
    "**File Finder**"
   ]
  },
  {
   "cell_type": "code",
   "execution_count": 9,
   "metadata": {
    "scrolled": true
   },
   "outputs": [
    {
     "name": "stdout",
     "output_type": "stream",
     "text": [
      "looking for .tif files in: /media/seppe/DiskSpaceInvader/3DHouseData\n",
      "88150 .tif files\n"
     ]
    }
   ],
   "source": [
    "# get the relative path of the current project that this notebook is in\n",
    "project_path = os.path.abspath(os.path.join(\"readfiles.ipynb\", os.pardir, os.pardir))\n",
    "int_data_path = os.path.join(project_path, \"Data\")\n",
    "\n",
    "# Insert your own data path here, this is my external hard drive\n",
    "ext_data_path = \"/media/seppe/DiskSpaceInvader/3DHouseData\"\n",
    "\n",
    "sub_lookup = {} # !!! Should write to dataframe directly\n",
    "\n",
    "def subdivide(name:str, tif:rio.io.DatasetReader, sub:int=2) -> None:\n",
    "    if sub is 0: return\n",
    "    \n",
    "    arr = np.array(tif.read(1))\n",
    "    meta = tif.meta\n",
    "    bounds = tif.bounds\n",
    "    \n",
    "    meta[\"width\"]  /= 2\n",
    "    meta[\"height\"] /= 2\n",
    "    \n",
    "    sub_bound = {\n",
    "        0:(0,1,-1,0),\n",
    "        1:(1,1,0,0),\n",
    "        2:(0,0,-1,-1),\n",
    "        3:(1,0,0,-1)}\n",
    "    \n",
    "    sub_slice = {\n",
    "        0:{\"sx\":slice(None,int(meta[\"height\"])),\n",
    "           \"sy\":slice(None,int(meta[\"width\"]))},\n",
    "        1:{\"sx\":slice(None,int(meta[\"height\"])),\n",
    "           \"sy\":slice(int(meta[\"width\"]),None)},\n",
    "        2:{\"sx\":slice(int(meta[\"height\"]),None),\n",
    "           \"sy\":slice(None,int(meta[\"width\"]))},\n",
    "        3:{\"sx\":slice(int(meta[\"height\"]),None),\n",
    "           \"sy\":slice(int(meta[\"width\"]),None)}}\n",
    "    \n",
    "    for idx in range(4):        \n",
    "        meta[\"transform\"] = from_bounds(\n",
    "            bounds.left + meta[\"width\"] * sub_bound[idx][0],\n",
    "            bounds.bottom + meta[\"height\"] * sub_bound[idx][1],\n",
    "            bounds.right + meta[\"width\"] * sub_bound[idx][2],\n",
    "            bounds.top + meta[\"height\"] * sub_bound[idx][3],\n",
    "            meta[\"width\"], meta[\"height\"]\n",
    "        )\n",
    "        with rio.open(name +f\"_{idx}.tif\", \"w+\", **meta) as subdiv:\n",
    "            subdiv.write(arr[sub_slice[idx][\"sx\"],sub_slice[idx][\"sy\"]], indexes=1)\n",
    "            subdivide(name +f\"_{idx}\", subdiv, sub-1)\n",
    "            if sub > 1: os.remove(name +f\"_{idx}.tif\")\n",
    "            else: sub_lookup[name[2:] +f\"_{idx}\"] = Box(subdiv.bounds)\n",
    "    return\n",
    "\n",
    "def count_files(fpath:str, filetype:str):\n",
    "    print(f\"looking for {filetype} files in: \" + fpath)\n",
    "    # Keep track of the number of files found\n",
    "    count = 0\n",
    "    # Walk through the folder containing the data, and check if the files match either .tif or .shp\n",
    "    # If so; open that file, and print how many there were found\n",
    "    for root, dirs, files in os.walk(fpath):\n",
    "        for name in files:\n",
    "            if name.endswith(filetype):\n",
    "                # add to the tif counter\n",
    "                count += 1\n",
    "    return count\n",
    "\n",
    "total_tifs = count_files(ext_data_path, \".tif\")\n",
    "print(f\"{total_tifs} .tif files\")\n",
    "\n",
    "def find_file(fpath:str):\n",
    "    print(\"looking for files in: \" + fpath)\n",
    "    # Keep track of the number of files found\n",
    "    tifs = 0\n",
    "    shps = 0\n",
    "    # Walk through the folder containing the data, and check if the files match either .tif or .shp\n",
    "    # If so; open that file, and print how many there were found\n",
    "    for root, dirs, files in os.walk(fpath):\n",
    "        for name in files:\n",
    "            if name.endswith(\".tif\"):\n",
    "                # add to the tif counter\n",
    "                tifs += 1\n",
    "                # read the name of the file, without the file extension, and save it as name\n",
    "                file_name = os.path.join(root, name)[:-4]\n",
    "                print(f\"Dividing file {tifs} out of {total_tifs}: {file_name}\")\n",
    "                tif = rio.open(os.path.join(root, name))\n",
    "                subdivide(file_name, tif, 5)\n",
    "                tif.close()\n",
    "                print(\"ok\")\n",
    "            if name.endswith(\".shp\"):\n",
    "                # Optional print, used for debugging purposes\n",
    "                # print(os.path.join(root, name))\n",
    "                shps += 1\n",
    "    # Print the number of files found\n",
    "    print(\"Found \", tifs, \" .tif files.\")\n",
    "    print(\"Found \", shps, \" .shps files.\")\n",
    "    return sub_lookup\n",
    "\n",
    "#find_file(ext_data_path)\n"
   ]
  },
  {
   "cell_type": "code",
   "execution_count": null,
   "metadata": {},
   "outputs": [],
   "source": []
  }
 ],
 "metadata": {
  "kernelspec": {
   "display_name": "Python 3",
   "language": "python",
   "name": "python3"
  },
  "language_info": {
   "codemirror_mode": {
    "name": "ipython",
    "version": 3
   },
   "file_extension": ".py",
   "mimetype": "text/x-python",
   "name": "python",
   "nbconvert_exporter": "python",
   "pygments_lexer": "ipython3",
   "version": "3.7.6"
  }
 },
 "nbformat": 4,
 "nbformat_minor": 2
}
